{
 "cells": [
  {
   "cell_type": "code",
   "execution_count": 1,
   "metadata": {},
   "outputs": [],
   "source": [
    "#!pip install requests\n",
    "#!pip install tabulate\n",
    "#!pip install scikit-learn\n",
    "#!pip install colorama\n",
    "#!pip install future"
   ]
  },
  {
   "cell_type": "code",
   "execution_count": 2,
   "metadata": {},
   "outputs": [],
   "source": [
    "# The following command removes the H2O module for Python.\n",
    "#!pip uninstall -y h2o\n",
    "\n",
    "# Next, use pip to install this version of the H2O Python module.\n",
    "#!pip install http://h2o-release.s3.amazonaws.com/h2o/rel-weierstrass/2/Python/h2o-3.14.0.2-py2.py3-none-any.whl"
   ]
  },
  {
   "cell_type": "code",
   "execution_count": 1,
   "metadata": {},
   "outputs": [
    {
     "name": "stderr",
     "output_type": "stream",
     "text": [
      "C:\\Users\\jeeva\\Anaconda2\\lib\\site-packages\\sklearn\\cross_validation.py:41: DeprecationWarning: This module was deprecated in version 0.18 in favor of the model_selection module into which all the refactored classes and functions are moved. Also note that the interface of the new CV iterators are different from that of this module. This module will be removed in 0.20.\n",
      "  \"This module will be removed in 0.20.\", DeprecationWarning)\n"
     ]
    },
    {
     "name": "stdout",
     "output_type": "stream",
     "text": [
      "[WARNING] H2O requires requests module of version 2.10 or newer. You have version 2.9.1.\n",
      "You can upgrade to the newest version of the module running from the command line\n",
      "    $ pip2 install --upgrade requests\n"
     ]
    }
   ],
   "source": [
    "# Import libraries necessary for this project\n",
    "import numpy as np\n",
    "import pandas as pd\n",
    "import matplotlib.pyplot as plt\n",
    "from sklearn.cross_validation import ShuffleSplit\n",
    "\n",
    "#h2o\n",
    "import h2o\n",
    "import time\n",
    "from h2o.estimators.deeplearning import H2OAutoEncoderEstimator, H2ODeepLearningEstimator\n",
    "from h2o.estimators.gbm import H2OGradientBoostingEstimator\n",
    "from h2o.estimators.glm import H2OGeneralizedLinearEstimator\n",
    "from h2o.estimators.random_forest import H2ORandomForestEstimator\n",
    "\n",
    "# Pretty display for notebooks\n",
    "%matplotlib inline\n",
    "\n",
    "\n"
   ]
  },
  {
   "cell_type": "code",
   "execution_count": 3,
   "metadata": {},
   "outputs": [
    {
     "name": "stdout",
     "output_type": "stream",
     "text": [
      "Checking whether there is an H2O instance running at http://localhost:54321..... not found.\n",
      "Attempting to start a local H2O server...\n"
     ]
    },
    {
     "ename": "CalledProcessError",
     "evalue": "Command '[u'C:\\\\ProgramData\\\\Oracle\\\\Java\\\\javapath\\\\java.exe', u'-version']' returned non-zero exit status 1",
     "output_type": "error",
     "traceback": [
      "\u001b[1;31m---------------------------------------------------------------------------\u001b[0m",
      "\u001b[1;31mCalledProcessError\u001b[0m                        Traceback (most recent call last)",
      "\u001b[1;32m<ipython-input-3-0e234ef16f6c>\u001b[0m in \u001b[0;36m<module>\u001b[1;34m()\u001b[0m\n\u001b[0;32m      1\u001b[0m \u001b[1;31m# Start H2O on your local machine\u001b[0m\u001b[1;33m\u001b[0m\u001b[1;33m\u001b[0m\u001b[0m\n\u001b[1;32m----> 2\u001b[1;33m \u001b[0mh2o\u001b[0m\u001b[1;33m.\u001b[0m\u001b[0minit\u001b[0m\u001b[1;33m(\u001b[0m\u001b[0mnthreads\u001b[0m\u001b[1;33m=\u001b[0m\u001b[1;33m-\u001b[0m\u001b[1;36m1\u001b[0m\u001b[1;33m)\u001b[0m\u001b[1;33m\u001b[0m\u001b[0m\n\u001b[0m",
      "\u001b[1;32mC:\\Users\\jeeva\\Anaconda2\\lib\\site-packages\\h2o\\h2o.pyc\u001b[0m in \u001b[0;36minit\u001b[1;34m(url, ip, port, https, insecure, username, password, cookies, proxy, start_h2o, nthreads, ice_root, enable_assertions, max_mem_size, min_mem_size, strict_version_check, ignore_config, extra_classpath, **kwargs)\u001b[0m\n\u001b[0;32m    259\u001b[0m         \u001b[1;32mif\u001b[0m \u001b[1;32mnot\u001b[0m \u001b[0mstart_h2o\u001b[0m\u001b[1;33m:\u001b[0m \u001b[1;32mraise\u001b[0m\u001b[1;33m\u001b[0m\u001b[0m\n\u001b[0;32m    260\u001b[0m         hs = H2OLocalServer.start(nthreads=nthreads, enable_assertions=enable_assertions, max_mem_size=mmax,\n\u001b[1;32m--> 261\u001b[1;33m                                   min_mem_size=mmin, ice_root=ice_root, port=port, extra_classpath=extra_classpath)\n\u001b[0m\u001b[0;32m    262\u001b[0m         h2oconn = H2OConnection.open(server=hs, https=https, verify_ssl_certificates=not insecure,\n\u001b[0;32m    263\u001b[0m                                      auth=auth, proxy=proxy,cookies=cookies, verbose=True)\n",
      "\u001b[1;32mC:\\Users\\jeeva\\Anaconda2\\lib\\site-packages\\h2o\\backend\\server.pyc\u001b[0m in \u001b[0;36mstart\u001b[1;34m(jar_path, nthreads, enable_assertions, max_mem_size, min_mem_size, ice_root, port, extra_classpath, verbose)\u001b[0m\n\u001b[0;32m    118\u001b[0m         \u001b[1;32mif\u001b[0m \u001b[0mverbose\u001b[0m\u001b[1;33m:\u001b[0m \u001b[1;32mprint\u001b[0m\u001b[1;33m(\u001b[0m\u001b[1;34m\"Attempting to start a local H2O server...\"\u001b[0m\u001b[1;33m)\u001b[0m\u001b[1;33m\u001b[0m\u001b[0m\n\u001b[0;32m    119\u001b[0m         hs._launch_server(port=port, baseport=baseport, nthreads=int(nthreads), ea=enable_assertions,\n\u001b[1;32m--> 120\u001b[1;33m                           mmax=max_mem_size, mmin=min_mem_size)\n\u001b[0m\u001b[0;32m    121\u001b[0m         \u001b[1;32mif\u001b[0m \u001b[0mverbose\u001b[0m\u001b[1;33m:\u001b[0m \u001b[1;32mprint\u001b[0m\u001b[1;33m(\u001b[0m\u001b[1;34m\"  Server is running at %s://%s:%d\"\u001b[0m \u001b[1;33m%\u001b[0m \u001b[1;33m(\u001b[0m\u001b[0mhs\u001b[0m\u001b[1;33m.\u001b[0m\u001b[0mscheme\u001b[0m\u001b[1;33m,\u001b[0m \u001b[0mhs\u001b[0m\u001b[1;33m.\u001b[0m\u001b[0mip\u001b[0m\u001b[1;33m,\u001b[0m \u001b[0mhs\u001b[0m\u001b[1;33m.\u001b[0m\u001b[0mport\u001b[0m\u001b[1;33m)\u001b[0m\u001b[1;33m)\u001b[0m\u001b[1;33m\u001b[0m\u001b[0m\n\u001b[0;32m    122\u001b[0m         \u001b[0matexit\u001b[0m\u001b[1;33m.\u001b[0m\u001b[0mregister\u001b[0m\u001b[1;33m(\u001b[0m\u001b[1;32mlambda\u001b[0m\u001b[1;33m:\u001b[0m \u001b[0mhs\u001b[0m\u001b[1;33m.\u001b[0m\u001b[0mshutdown\u001b[0m\u001b[1;33m(\u001b[0m\u001b[1;33m)\u001b[0m\u001b[1;33m)\u001b[0m\u001b[1;33m\u001b[0m\u001b[0m\n",
      "\u001b[1;32mC:\\Users\\jeeva\\Anaconda2\\lib\\site-packages\\h2o\\backend\\server.pyc\u001b[0m in \u001b[0;36m_launch_server\u001b[1;34m(self, port, baseport, mmax, mmin, ea, nthreads)\u001b[0m\n\u001b[0;32m    247\u001b[0m         \u001b[1;31m# Find Java and check version. (Note that subprocess.check_output returns the output as a bytes object)\u001b[0m\u001b[1;33m\u001b[0m\u001b[1;33m\u001b[0m\u001b[0m\n\u001b[0;32m    248\u001b[0m         \u001b[0mjava\u001b[0m \u001b[1;33m=\u001b[0m \u001b[0mself\u001b[0m\u001b[1;33m.\u001b[0m\u001b[0m_find_java\u001b[0m\u001b[1;33m(\u001b[0m\u001b[1;33m)\u001b[0m\u001b[1;33m\u001b[0m\u001b[0m\n\u001b[1;32m--> 249\u001b[1;33m         \u001b[0mjver_bytes\u001b[0m \u001b[1;33m=\u001b[0m \u001b[0msubprocess\u001b[0m\u001b[1;33m.\u001b[0m\u001b[0mcheck_output\u001b[0m\u001b[1;33m(\u001b[0m\u001b[1;33m[\u001b[0m\u001b[0mjava\u001b[0m\u001b[1;33m,\u001b[0m \u001b[1;34m\"-version\"\u001b[0m\u001b[1;33m]\u001b[0m\u001b[1;33m,\u001b[0m \u001b[0mstderr\u001b[0m\u001b[1;33m=\u001b[0m\u001b[0msubprocess\u001b[0m\u001b[1;33m.\u001b[0m\u001b[0mSTDOUT\u001b[0m\u001b[1;33m)\u001b[0m\u001b[1;33m\u001b[0m\u001b[0m\n\u001b[0m\u001b[0;32m    250\u001b[0m         \u001b[0mjver\u001b[0m \u001b[1;33m=\u001b[0m \u001b[0mjver_bytes\u001b[0m\u001b[1;33m.\u001b[0m\u001b[0mdecode\u001b[0m\u001b[1;33m(\u001b[0m\u001b[0mencoding\u001b[0m\u001b[1;33m=\u001b[0m\u001b[1;34m\"utf-8\"\u001b[0m\u001b[1;33m,\u001b[0m \u001b[0merrors\u001b[0m\u001b[1;33m=\u001b[0m\u001b[1;34m\"ignore\"\u001b[0m\u001b[1;33m)\u001b[0m\u001b[1;33m\u001b[0m\u001b[0m\n\u001b[0;32m    251\u001b[0m         \u001b[1;32mif\u001b[0m \u001b[0mself\u001b[0m\u001b[1;33m.\u001b[0m\u001b[0m_verbose\u001b[0m\u001b[1;33m:\u001b[0m\u001b[1;33m\u001b[0m\u001b[0m\n",
      "\u001b[1;32mC:\\Users\\jeeva\\Anaconda2\\lib\\subprocess.pyc\u001b[0m in \u001b[0;36mcheck_output\u001b[1;34m(*popenargs, **kwargs)\u001b[0m\n\u001b[0;32m    217\u001b[0m         \u001b[1;32mif\u001b[0m \u001b[0mcmd\u001b[0m \u001b[1;32mis\u001b[0m \u001b[0mNone\u001b[0m\u001b[1;33m:\u001b[0m\u001b[1;33m\u001b[0m\u001b[0m\n\u001b[0;32m    218\u001b[0m             \u001b[0mcmd\u001b[0m \u001b[1;33m=\u001b[0m \u001b[0mpopenargs\u001b[0m\u001b[1;33m[\u001b[0m\u001b[1;36m0\u001b[0m\u001b[1;33m]\u001b[0m\u001b[1;33m\u001b[0m\u001b[0m\n\u001b[1;32m--> 219\u001b[1;33m         \u001b[1;32mraise\u001b[0m \u001b[0mCalledProcessError\u001b[0m\u001b[1;33m(\u001b[0m\u001b[0mretcode\u001b[0m\u001b[1;33m,\u001b[0m \u001b[0mcmd\u001b[0m\u001b[1;33m,\u001b[0m \u001b[0moutput\u001b[0m\u001b[1;33m=\u001b[0m\u001b[0moutput\u001b[0m\u001b[1;33m)\u001b[0m\u001b[1;33m\u001b[0m\u001b[0m\n\u001b[0m\u001b[0;32m    220\u001b[0m     \u001b[1;32mreturn\u001b[0m \u001b[0moutput\u001b[0m\u001b[1;33m\u001b[0m\u001b[0m\n\u001b[0;32m    221\u001b[0m \u001b[1;33m\u001b[0m\u001b[0m\n",
      "\u001b[1;31mCalledProcessError\u001b[0m: Command '[u'C:\\\\ProgramData\\\\Oracle\\\\Java\\\\javapath\\\\java.exe', u'-version']' returned non-zero exit status 1"
     ]
    }
   ],
   "source": [
    "# Start H2O on your local machine\n",
    "h2o.init(nthreads=-1)"
   ]
  },
  {
   "cell_type": "code",
   "execution_count": null,
   "metadata": {},
   "outputs": [],
   "source": [
    "# Load the datasets\n",
    "print(\"Import and Parse training data\")\n",
    "train = h2o.import_file(path='train_aWnotuB.csv', col_types=[\"time\"] + ['factor']+['int']+['enum'])"
   ]
  },
  {
   "cell_type": "code",
   "execution_count": 110,
   "metadata": {},
   "outputs": [
    {
     "name": "stdout",
     "output_type": "stream",
     "text": [
      "Import and Parse testing data\n",
      "Parse progress: |█████████████████████████████████████████████████████████| 100%\n"
     ]
    }
   ],
   "source": [
    "print(\"Import and Parse testing data\")\n",
    "test = h2o.import_file(path='test_BdBKkAj.csv', col_types=[\"time\"] + ['factor']+['enum'])"
   ]
  },
  {
   "cell_type": "code",
   "execution_count": 42,
   "metadata": {},
   "outputs": [
    {
     "data": {
      "text/plain": [
       "[u'DateTime', u'Junction', u'Vehicles', u'ID']"
      ]
     },
     "execution_count": 42,
     "metadata": {},
     "output_type": "execute_result"
    }
   ],
   "source": [
    "train.names"
   ]
  },
  {
   "cell_type": "code",
   "execution_count": 43,
   "metadata": {},
   "outputs": [
    {
     "data": {
      "text/html": [
       "<table>\n",
       "<thead>\n",
       "<tr><th>DateTime           </th><th style=\"text-align: right;\">  Junction</th><th style=\"text-align: right;\">  Vehicles</th><th style=\"text-align: right;\">         ID</th></tr>\n",
       "</thead>\n",
       "<tbody>\n",
       "<tr><td>2015-11-01 00:00:00</td><td style=\"text-align: right;\">         1</td><td style=\"text-align: right;\">        15</td><td style=\"text-align: right;\">20151101001</td></tr>\n",
       "<tr><td>2015-11-01 01:00:00</td><td style=\"text-align: right;\">         1</td><td style=\"text-align: right;\">        13</td><td style=\"text-align: right;\">20151101011</td></tr>\n",
       "<tr><td>2015-11-01 02:00:00</td><td style=\"text-align: right;\">         1</td><td style=\"text-align: right;\">        10</td><td style=\"text-align: right;\">20151101021</td></tr>\n",
       "<tr><td>2015-11-01 03:00:00</td><td style=\"text-align: right;\">         1</td><td style=\"text-align: right;\">         7</td><td style=\"text-align: right;\">20151101031</td></tr>\n",
       "<tr><td>2015-11-01 04:00:00</td><td style=\"text-align: right;\">         1</td><td style=\"text-align: right;\">         9</td><td style=\"text-align: right;\">20151101041</td></tr>\n",
       "<tr><td>2015-11-01 05:00:00</td><td style=\"text-align: right;\">         1</td><td style=\"text-align: right;\">         6</td><td style=\"text-align: right;\">20151101051</td></tr>\n",
       "<tr><td>2015-11-01 06:00:00</td><td style=\"text-align: right;\">         1</td><td style=\"text-align: right;\">         9</td><td style=\"text-align: right;\">20151101061</td></tr>\n",
       "<tr><td>2015-11-01 07:00:00</td><td style=\"text-align: right;\">         1</td><td style=\"text-align: right;\">         8</td><td style=\"text-align: right;\">20151101071</td></tr>\n",
       "<tr><td>2015-11-01 08:00:00</td><td style=\"text-align: right;\">         1</td><td style=\"text-align: right;\">        11</td><td style=\"text-align: right;\">20151101081</td></tr>\n",
       "<tr><td>2015-11-01 09:00:00</td><td style=\"text-align: right;\">         1</td><td style=\"text-align: right;\">        12</td><td style=\"text-align: right;\">20151101091</td></tr>\n",
       "</tbody>\n",
       "</table>"
      ]
     },
     "metadata": {},
     "output_type": "display_data"
    },
    {
     "data": {
      "text/plain": [
       "<bound method H2OFrame.head of >"
      ]
     },
     "execution_count": 43,
     "metadata": {},
     "output_type": "execute_result"
    }
   ],
   "source": [
    "train.head"
   ]
  },
  {
   "cell_type": "code",
   "execution_count": 44,
   "metadata": {},
   "outputs": [
    {
     "data": {
      "text/html": [
       "<table>\n",
       "<thead>\n",
       "<tr><th>DateTime           </th><th style=\"text-align: right;\">  Junction</th><th style=\"text-align: right;\">         ID</th></tr>\n",
       "</thead>\n",
       "<tbody>\n",
       "<tr><td>2017-07-01 00:00:00</td><td style=\"text-align: right;\">         1</td><td style=\"text-align: right;\">20170701001</td></tr>\n",
       "<tr><td>2017-07-01 01:00:00</td><td style=\"text-align: right;\">         1</td><td style=\"text-align: right;\">20170701011</td></tr>\n",
       "<tr><td>2017-07-01 02:00:00</td><td style=\"text-align: right;\">         1</td><td style=\"text-align: right;\">20170701021</td></tr>\n",
       "<tr><td>2017-07-01 03:00:00</td><td style=\"text-align: right;\">         1</td><td style=\"text-align: right;\">20170701031</td></tr>\n",
       "<tr><td>2017-07-01 04:00:00</td><td style=\"text-align: right;\">         1</td><td style=\"text-align: right;\">20170701041</td></tr>\n",
       "<tr><td>2017-07-01 05:00:00</td><td style=\"text-align: right;\">         1</td><td style=\"text-align: right;\">20170701051</td></tr>\n",
       "<tr><td>2017-07-01 06:00:00</td><td style=\"text-align: right;\">         1</td><td style=\"text-align: right;\">20170701061</td></tr>\n",
       "<tr><td>2017-07-01 07:00:00</td><td style=\"text-align: right;\">         1</td><td style=\"text-align: right;\">20170701071</td></tr>\n",
       "<tr><td>2017-07-01 08:00:00</td><td style=\"text-align: right;\">         1</td><td style=\"text-align: right;\">20170701081</td></tr>\n",
       "<tr><td>2017-07-01 09:00:00</td><td style=\"text-align: right;\">         1</td><td style=\"text-align: right;\">20170701091</td></tr>\n",
       "</tbody>\n",
       "</table>"
      ]
     },
     "metadata": {},
     "output_type": "display_data"
    },
    {
     "data": {
      "text/plain": [
       "<bound method H2OFrame.head of >"
      ]
     },
     "execution_count": 44,
     "metadata": {},
     "output_type": "execute_result"
    }
   ],
   "source": [
    "test.head"
   ]
  },
  {
   "cell_type": "code",
   "execution_count": 45,
   "metadata": {},
   "outputs": [
    {
     "data": {
      "text/plain": [
       "(48120, 4)"
      ]
     },
     "execution_count": 45,
     "metadata": {},
     "output_type": "execute_result"
    }
   ],
   "source": [
    "train.shape"
   ]
  },
  {
   "cell_type": "code",
   "execution_count": 46,
   "metadata": {},
   "outputs": [
    {
     "data": {
      "text/plain": [
       "(11808, 3)"
      ]
     },
     "execution_count": 46,
     "metadata": {},
     "output_type": "execute_result"
    }
   ],
   "source": [
    "test.shape"
   ]
  },
  {
   "cell_type": "code",
   "execution_count": 47,
   "metadata": {},
   "outputs": [
    {
     "data": {
      "text/html": [
       "<table>\n",
       "<thead>\n",
       "<tr><th>DateTime           </th><th style=\"text-align: right;\">  Junction</th><th style=\"text-align: right;\">  Vehicles</th><th style=\"text-align: right;\">         ID</th></tr>\n",
       "</thead>\n",
       "<tbody>\n",
       "<tr><td>2017-06-30 14:00:00</td><td style=\"text-align: right;\">         4</td><td style=\"text-align: right;\">        10</td><td style=\"text-align: right;\">20170630144</td></tr>\n",
       "<tr><td>2017-06-30 15:00:00</td><td style=\"text-align: right;\">         4</td><td style=\"text-align: right;\">        14</td><td style=\"text-align: right;\">20170630154</td></tr>\n",
       "<tr><td>2017-06-30 16:00:00</td><td style=\"text-align: right;\">         4</td><td style=\"text-align: right;\">        16</td><td style=\"text-align: right;\">20170630164</td></tr>\n",
       "<tr><td>2017-06-30 17:00:00</td><td style=\"text-align: right;\">         4</td><td style=\"text-align: right;\">        16</td><td style=\"text-align: right;\">20170630174</td></tr>\n",
       "<tr><td>2017-06-30 18:00:00</td><td style=\"text-align: right;\">         4</td><td style=\"text-align: right;\">        17</td><td style=\"text-align: right;\">20170630184</td></tr>\n",
       "<tr><td>2017-06-30 19:00:00</td><td style=\"text-align: right;\">         4</td><td style=\"text-align: right;\">        11</td><td style=\"text-align: right;\">20170630194</td></tr>\n",
       "<tr><td>2017-06-30 20:00:00</td><td style=\"text-align: right;\">         4</td><td style=\"text-align: right;\">        30</td><td style=\"text-align: right;\">20170630204</td></tr>\n",
       "<tr><td>2017-06-30 21:00:00</td><td style=\"text-align: right;\">         4</td><td style=\"text-align: right;\">        16</td><td style=\"text-align: right;\">20170630214</td></tr>\n",
       "<tr><td>2017-06-30 22:00:00</td><td style=\"text-align: right;\">         4</td><td style=\"text-align: right;\">        22</td><td style=\"text-align: right;\">20170630224</td></tr>\n",
       "<tr><td>2017-06-30 23:00:00</td><td style=\"text-align: right;\">         4</td><td style=\"text-align: right;\">        12</td><td style=\"text-align: right;\">20170630234</td></tr>\n",
       "</tbody>\n",
       "</table>"
      ]
     },
     "metadata": {},
     "output_type": "display_data"
    },
    {
     "data": {
      "text/plain": []
     },
     "execution_count": 47,
     "metadata": {},
     "output_type": "execute_result"
    }
   ],
   "source": [
    "train.tail()"
   ]
  },
  {
   "cell_type": "code",
   "execution_count": 48,
   "metadata": {},
   "outputs": [
    {
     "name": "stdout",
     "output_type": "stream",
     "text": [
      "Rows:48120\n",
      "Cols:4\n",
      "\n",
      "\n"
     ]
    },
    {
     "data": {
      "text/html": [
       "<table>\n",
       "<thead>\n",
       "<tr><th>       </th><th>DateTime           </th><th>Junction  </th><th>Vehicles     </th><th>ID         </th></tr>\n",
       "</thead>\n",
       "<tbody>\n",
       "<tr><td>type   </td><td>time               </td><td>enum      </td><td>int          </td><td>enum       </td></tr>\n",
       "<tr><td>mins   </td><td>1.446336e+12       </td><td>          </td><td>1.0          </td><td>           </td></tr>\n",
       "<tr><td>mean   </td><td>1.47426503611e+12  </td><td>          </td><td>22.7913341646</td><td>           </td></tr>\n",
       "<tr><td>maxs   </td><td>1.4988636e+12      </td><td>          </td><td>180.0        </td><td>           </td></tr>\n",
       "<tr><td>sigma  </td><td>15459314347.0      </td><td>          </td><td>20.75006252  </td><td>           </td></tr>\n",
       "<tr><td>zeros  </td><td>0                  </td><td>          </td><td>0            </td><td>           </td></tr>\n",
       "<tr><td>missing</td><td>0                  </td><td>0         </td><td>0            </td><td>0          </td></tr>\n",
       "<tr><td>0      </td><td>2015-11-01 00:00:00</td><td>1         </td><td>15.0         </td><td>20151101001</td></tr>\n",
       "<tr><td>1      </td><td>2015-11-01 01:00:00</td><td>1         </td><td>13.0         </td><td>20151101011</td></tr>\n",
       "<tr><td>2      </td><td>2015-11-01 02:00:00</td><td>1         </td><td>10.0         </td><td>20151101021</td></tr>\n",
       "<tr><td>3      </td><td>2015-11-01 03:00:00</td><td>1         </td><td>7.0          </td><td>20151101031</td></tr>\n",
       "<tr><td>4      </td><td>2015-11-01 04:00:00</td><td>1         </td><td>9.0          </td><td>20151101041</td></tr>\n",
       "<tr><td>5      </td><td>2015-11-01 05:00:00</td><td>1         </td><td>6.0          </td><td>20151101051</td></tr>\n",
       "<tr><td>6      </td><td>2015-11-01 06:00:00</td><td>1         </td><td>9.0          </td><td>20151101061</td></tr>\n",
       "<tr><td>7      </td><td>2015-11-01 07:00:00</td><td>1         </td><td>8.0          </td><td>20151101071</td></tr>\n",
       "<tr><td>8      </td><td>2015-11-01 08:00:00</td><td>1         </td><td>11.0         </td><td>20151101081</td></tr>\n",
       "<tr><td>9      </td><td>2015-11-01 09:00:00</td><td>1         </td><td>12.0         </td><td>20151101091</td></tr>\n",
       "</tbody>\n",
       "</table>"
      ]
     },
     "metadata": {},
     "output_type": "display_data"
    }
   ],
   "source": [
    "train.describe()"
   ]
  },
  {
   "cell_type": "code",
   "execution_count": 49,
   "metadata": {},
   "outputs": [
    {
     "name": "stdout",
     "output_type": "stream",
     "text": [
      "Rows:11808\n",
      "Cols:3\n",
      "\n",
      "\n"
     ]
    },
    {
     "data": {
      "text/html": [
       "<table>\n",
       "<thead>\n",
       "<tr><th>       </th><th>DateTime           </th><th>Junction  </th><th>ID         </th></tr>\n",
       "</thead>\n",
       "<tbody>\n",
       "<tr><td>type   </td><td>time               </td><td>enum      </td><td>enum       </td></tr>\n",
       "<tr><td>mins   </td><td>1.4988672e+12      </td><td>          </td><td>           </td></tr>\n",
       "<tr><td>mean   </td><td>1.504179e+12       </td><td>          </td><td>           </td></tr>\n",
       "<tr><td>maxs   </td><td>1.5094908e+12      </td><td>          </td><td>           </td></tr>\n",
       "<tr><td>sigma  </td><td>3067938126.4       </td><td>          </td><td>           </td></tr>\n",
       "<tr><td>zeros  </td><td>0                  </td><td>          </td><td>           </td></tr>\n",
       "<tr><td>missing</td><td>0                  </td><td>0         </td><td>0          </td></tr>\n",
       "<tr><td>0      </td><td>2017-07-01 00:00:00</td><td>1         </td><td>20170701001</td></tr>\n",
       "<tr><td>1      </td><td>2017-07-01 01:00:00</td><td>1         </td><td>20170701011</td></tr>\n",
       "<tr><td>2      </td><td>2017-07-01 02:00:00</td><td>1         </td><td>20170701021</td></tr>\n",
       "<tr><td>3      </td><td>2017-07-01 03:00:00</td><td>1         </td><td>20170701031</td></tr>\n",
       "<tr><td>4      </td><td>2017-07-01 04:00:00</td><td>1         </td><td>20170701041</td></tr>\n",
       "<tr><td>5      </td><td>2017-07-01 05:00:00</td><td>1         </td><td>20170701051</td></tr>\n",
       "<tr><td>6      </td><td>2017-07-01 06:00:00</td><td>1         </td><td>20170701061</td></tr>\n",
       "<tr><td>7      </td><td>2017-07-01 07:00:00</td><td>1         </td><td>20170701071</td></tr>\n",
       "<tr><td>8      </td><td>2017-07-01 08:00:00</td><td>1         </td><td>20170701081</td></tr>\n",
       "<tr><td>9      </td><td>2017-07-01 09:00:00</td><td>1         </td><td>20170701091</td></tr>\n",
       "</tbody>\n",
       "</table>"
      ]
     },
     "metadata": {},
     "output_type": "display_data"
    }
   ],
   "source": [
    "test.describe()"
   ]
  },
  {
   "cell_type": "code",
   "execution_count": 50,
   "metadata": {},
   "outputs": [
    {
     "data": {
      "text/plain": [
       "{u'DateTime': u'time',\n",
       " u'ID': u'enum',\n",
       " u'Junction': u'enum',\n",
       " u'Vehicles': u'int'}"
      ]
     },
     "execution_count": 50,
     "metadata": {},
     "output_type": "execute_result"
    }
   ],
   "source": [
    "train.types"
   ]
  },
  {
   "cell_type": "code",
   "execution_count": 52,
   "metadata": {},
   "outputs": [
    {
     "data": {
      "text/html": [
       "<table>\n",
       "<thead>\n",
       "<tr><th style=\"text-align: right;\">  Junction</th></tr>\n",
       "</thead>\n",
       "<tbody>\n",
       "<tr><td style=\"text-align: right;\">         1</td></tr>\n",
       "<tr><td style=\"text-align: right;\">         2</td></tr>\n",
       "<tr><td style=\"text-align: right;\">         3</td></tr>\n",
       "<tr><td style=\"text-align: right;\">         4</td></tr>\n",
       "</tbody>\n",
       "</table>"
      ]
     },
     "metadata": {},
     "output_type": "display_data"
    },
    {
     "data": {
      "text/plain": []
     },
     "execution_count": 52,
     "metadata": {},
     "output_type": "execute_result"
    }
   ],
   "source": [
    "train.group_by(by=[\"Junction\"]).get_frame()"
   ]
  },
  {
   "cell_type": "code",
   "execution_count": 76,
   "metadata": {},
   "outputs": [],
   "source": [
    "def refine_date_col(data, col, pattern):\n",
    "    #data[col]         = data[col].as_date(pattern) # As of 5/29/2106 H2O defaults parse as a date\n",
    "    data[\"Day\"]       = data[col].day()\n",
    "    data[\"Month\"]     = data[col].month() + 1     # Since H2O indexes from 0\n",
    "    data[\"Year\"]      = data[col].year() \n",
    "    data[\"WeekNum\"]   = data[col].week()\n",
    "    data[\"WeekDay\"]   = data[col].dayOfWeek()\n",
    "    data[\"HourOfDay\"] = data[col].hour()\n",
    "    \n",
    "    data.describe()  # HACK: Force evaluation before ifelse and cut. See PUBDEV-1425.\n",
    "    \n",
    "    # Create weekend and season cols\n",
    "    # Spring = Mar, Apr, May. Summer = Jun, Jul, Aug. Autumn = Sep, Oct. Winter = Nov, Dec, Jan, Feb.\n",
    "    # data[\"Weekend\"]   = [1 if x in (\"Sun\", \"Sat\") else 0 for x in data[\"WeekDay\"]]\n",
    "    data[\"Weekend\"] = ((data[\"WeekDay\"] == \"Sun\") | (data[\"WeekDay\"] == \"Sat\"))\n",
    "    data[\"Season\"] = data[\"Month\"].cut([0, 2, 5, 7, 10, 12], [\"Winter\", \"Spring\", \"Summer\", \"Autumn\", \"Winter\"])\n"
   ]
  },
  {
   "cell_type": "code",
   "execution_count": 77,
   "metadata": {},
   "outputs": [
    {
     "name": "stdout",
     "output_type": "stream",
     "text": [
      "Rows:48120\n",
      "Cols:10\n",
      "\n",
      "\n"
     ]
    },
    {
     "data": {
      "text/html": [
       "<table>\n",
       "<thead>\n",
       "<tr><th>       </th><th>DateTime           </th><th>Junction  </th><th>Vehicles     </th><th>ID         </th><th>Day          </th><th>Month        </th><th>Year          </th><th>WeekNum      </th><th>WeekDay  </th><th>HourOfDay    </th></tr>\n",
       "</thead>\n",
       "<tbody>\n",
       "<tr><td>type   </td><td>time               </td><td>enum      </td><td>int          </td><td>enum       </td><td>int          </td><td>int          </td><td>int           </td><td>int          </td><td>enum     </td><td>int          </td></tr>\n",
       "<tr><td>mins   </td><td>1.446336e+12       </td><td>          </td><td>1.0          </td><td>           </td><td>1.0          </td><td>2.0          </td><td>2015.0        </td><td>1.0          </td><td>         </td><td>0.0          </td></tr>\n",
       "<tr><td>mean   </td><td>1.47426503611e+12  </td><td>          </td><td>22.7913341646</td><td>           </td><td>15.7007481297</td><td>6.88428927681</td><td>2016.26982544 </td><td>23.9416458853</td><td>         </td><td>11.5         </td></tr>\n",
       "<tr><td>maxs   </td><td>1.4988636e+12      </td><td>          </td><td>180.0        </td><td>           </td><td>31.0         </td><td>13.0         </td><td>2017.0        </td><td>53.0         </td><td>         </td><td>23.0         </td></tr>\n",
       "<tr><td>sigma  </td><td>15459314347.0      </td><td>          </td><td>20.75006252  </td><td>           </td><td>8.78407263786</td><td>3.56987158004</td><td>0.616093498737</td><td>15.7180656998</td><td>         </td><td>6.92225847985</td></tr>\n",
       "<tr><td>zeros  </td><td>0                  </td><td>          </td><td>0            </td><td>           </td><td>0            </td><td>0            </td><td>0             </td><td>0            </td><td>         </td><td>2005         </td></tr>\n",
       "<tr><td>missing</td><td>0                  </td><td>0         </td><td>0            </td><td>0          </td><td>0            </td><td>0            </td><td>0             </td><td>0            </td><td>0        </td><td>0            </td></tr>\n",
       "<tr><td>0      </td><td>2015-11-01 00:00:00</td><td>1         </td><td>15.0         </td><td>20151101001</td><td>1.0          </td><td>12.0         </td><td>2015.0        </td><td>44.0         </td><td>Sun      </td><td>0.0          </td></tr>\n",
       "<tr><td>1      </td><td>2015-11-01 01:00:00</td><td>1         </td><td>13.0         </td><td>20151101011</td><td>1.0          </td><td>12.0         </td><td>2015.0        </td><td>44.0         </td><td>Sun      </td><td>1.0          </td></tr>\n",
       "<tr><td>2      </td><td>2015-11-01 02:00:00</td><td>1         </td><td>10.0         </td><td>20151101021</td><td>1.0          </td><td>12.0         </td><td>2015.0        </td><td>44.0         </td><td>Sun      </td><td>2.0          </td></tr>\n",
       "<tr><td>3      </td><td>2015-11-01 03:00:00</td><td>1         </td><td>7.0          </td><td>20151101031</td><td>1.0          </td><td>12.0         </td><td>2015.0        </td><td>44.0         </td><td>Sun      </td><td>3.0          </td></tr>\n",
       "<tr><td>4      </td><td>2015-11-01 04:00:00</td><td>1         </td><td>9.0          </td><td>20151101041</td><td>1.0          </td><td>12.0         </td><td>2015.0        </td><td>44.0         </td><td>Sun      </td><td>4.0          </td></tr>\n",
       "<tr><td>5      </td><td>2015-11-01 05:00:00</td><td>1         </td><td>6.0          </td><td>20151101051</td><td>1.0          </td><td>12.0         </td><td>2015.0        </td><td>44.0         </td><td>Sun      </td><td>5.0          </td></tr>\n",
       "<tr><td>6      </td><td>2015-11-01 06:00:00</td><td>1         </td><td>9.0          </td><td>20151101061</td><td>1.0          </td><td>12.0         </td><td>2015.0        </td><td>44.0         </td><td>Sun      </td><td>6.0          </td></tr>\n",
       "<tr><td>7      </td><td>2015-11-01 07:00:00</td><td>1         </td><td>8.0          </td><td>20151101071</td><td>1.0          </td><td>12.0         </td><td>2015.0        </td><td>44.0         </td><td>Sun      </td><td>7.0          </td></tr>\n",
       "<tr><td>8      </td><td>2015-11-01 08:00:00</td><td>1         </td><td>11.0         </td><td>20151101081</td><td>1.0          </td><td>12.0         </td><td>2015.0        </td><td>44.0         </td><td>Sun      </td><td>8.0          </td></tr>\n",
       "<tr><td>9      </td><td>2015-11-01 09:00:00</td><td>1         </td><td>12.0         </td><td>20151101091</td><td>1.0          </td><td>12.0         </td><td>2015.0        </td><td>44.0         </td><td>Sun      </td><td>9.0          </td></tr>\n",
       "</tbody>\n",
       "</table>"
      ]
     },
     "metadata": {},
     "output_type": "display_data"
    },
    {
     "name": "stdout",
     "output_type": "stream",
     "text": [
      "Rows:48120\n",
      "Cols:11\n",
      "\n",
      "\n"
     ]
    },
    {
     "data": {
      "text/html": [
       "<table>\n",
       "<thead>\n",
       "<tr><th>       </th><th>Junction  </th><th>Vehicles     </th><th>ID         </th><th>Day          </th><th>Month        </th><th>Year          </th><th>WeekNum      </th><th>WeekDay  </th><th>HourOfDay    </th><th>Weekend       </th><th>Season  </th></tr>\n",
       "</thead>\n",
       "<tbody>\n",
       "<tr><td>type   </td><td>enum      </td><td>int          </td><td>enum       </td><td>int          </td><td>int          </td><td>int           </td><td>int          </td><td>enum     </td><td>int          </td><td>int           </td><td>enum    </td></tr>\n",
       "<tr><td>mins   </td><td>          </td><td>1.0          </td><td>           </td><td>1.0          </td><td>2.0          </td><td>2015.0        </td><td>1.0          </td><td>         </td><td>0.0          </td><td>0.0           </td><td>        </td></tr>\n",
       "<tr><td>mean   </td><td>          </td><td>22.7913341646</td><td>           </td><td>15.7007481297</td><td>6.88428927681</td><td>2016.26982544 </td><td>23.9416458853</td><td>         </td><td>11.5         </td><td>0.284289276808</td><td>        </td></tr>\n",
       "<tr><td>maxs   </td><td>          </td><td>180.0        </td><td>           </td><td>31.0         </td><td>13.0         </td><td>2017.0        </td><td>53.0         </td><td>         </td><td>23.0         </td><td>1.0           </td><td>        </td></tr>\n",
       "<tr><td>sigma  </td><td>          </td><td>20.75006252  </td><td>           </td><td>8.78407263786</td><td>3.56987158004</td><td>0.616093498737</td><td>15.7180656998</td><td>         </td><td>6.92225847985</td><td>0.45107994009 </td><td>        </td></tr>\n",
       "<tr><td>zeros  </td><td>          </td><td>0            </td><td>           </td><td>0            </td><td>0            </td><td>0             </td><td>0            </td><td>         </td><td>2005         </td><td>34440         </td><td>        </td></tr>\n",
       "<tr><td>missing</td><td>0         </td><td>0            </td><td>0          </td><td>0            </td><td>0            </td><td>0             </td><td>0            </td><td>0        </td><td>0            </td><td>0             </td><td>4464    </td></tr>\n",
       "<tr><td>0      </td><td>1         </td><td>15.0         </td><td>20151101001</td><td>1.0          </td><td>12.0         </td><td>2015.0        </td><td>44.0         </td><td>Sun      </td><td>0.0          </td><td>1.0           </td><td>Winter  </td></tr>\n",
       "<tr><td>1      </td><td>1         </td><td>13.0         </td><td>20151101011</td><td>1.0          </td><td>12.0         </td><td>2015.0        </td><td>44.0         </td><td>Sun      </td><td>1.0          </td><td>1.0           </td><td>Winter  </td></tr>\n",
       "<tr><td>2      </td><td>1         </td><td>10.0         </td><td>20151101021</td><td>1.0          </td><td>12.0         </td><td>2015.0        </td><td>44.0         </td><td>Sun      </td><td>2.0          </td><td>1.0           </td><td>Winter  </td></tr>\n",
       "<tr><td>3      </td><td>1         </td><td>7.0          </td><td>20151101031</td><td>1.0          </td><td>12.0         </td><td>2015.0        </td><td>44.0         </td><td>Sun      </td><td>3.0          </td><td>1.0           </td><td>Winter  </td></tr>\n",
       "<tr><td>4      </td><td>1         </td><td>9.0          </td><td>20151101041</td><td>1.0          </td><td>12.0         </td><td>2015.0        </td><td>44.0         </td><td>Sun      </td><td>4.0          </td><td>1.0           </td><td>Winter  </td></tr>\n",
       "<tr><td>5      </td><td>1         </td><td>6.0          </td><td>20151101051</td><td>1.0          </td><td>12.0         </td><td>2015.0        </td><td>44.0         </td><td>Sun      </td><td>5.0          </td><td>1.0           </td><td>Winter  </td></tr>\n",
       "<tr><td>6      </td><td>1         </td><td>9.0          </td><td>20151101061</td><td>1.0          </td><td>12.0         </td><td>2015.0        </td><td>44.0         </td><td>Sun      </td><td>6.0          </td><td>1.0           </td><td>Winter  </td></tr>\n",
       "<tr><td>7      </td><td>1         </td><td>8.0          </td><td>20151101071</td><td>1.0          </td><td>12.0         </td><td>2015.0        </td><td>44.0         </td><td>Sun      </td><td>7.0          </td><td>1.0           </td><td>Winter  </td></tr>\n",
       "<tr><td>8      </td><td>1         </td><td>11.0         </td><td>20151101081</td><td>1.0          </td><td>12.0         </td><td>2015.0        </td><td>44.0         </td><td>Sun      </td><td>8.0          </td><td>1.0           </td><td>Winter  </td></tr>\n",
       "<tr><td>9      </td><td>1         </td><td>12.0         </td><td>20151101091</td><td>1.0          </td><td>12.0         </td><td>2015.0        </td><td>44.0         </td><td>Sun      </td><td>9.0          </td><td>1.0           </td><td>Winter  </td></tr>\n",
       "</tbody>\n",
       "</table>"
      ]
     },
     "metadata": {},
     "output_type": "display_data"
    }
   ],
   "source": [
    "refine_date_col(train, \"DateTime\", \"%Y-%m-%d %H:%M:%S\")\n",
    "train = train.drop(\"DateTime\")\n",
    "train.describe()"
   ]
  },
  {
   "cell_type": "code",
   "execution_count": 78,
   "metadata": {},
   "outputs": [
    {
     "data": {
      "text/html": [
       "<table>\n",
       "<thead>\n",
       "<tr><th style=\"text-align: right;\">  Junction</th><th style=\"text-align: right;\">  Vehicles</th><th style=\"text-align: right;\">         ID</th><th style=\"text-align: right;\">  Day</th><th style=\"text-align: right;\">  Month</th><th style=\"text-align: right;\">  Year</th><th style=\"text-align: right;\">  WeekNum</th><th>WeekDay  </th><th style=\"text-align: right;\">  HourOfDay</th><th style=\"text-align: right;\">  Weekend</th><th>Season  </th></tr>\n",
       "</thead>\n",
       "<tbody>\n",
       "<tr><td style=\"text-align: right;\">         1</td><td style=\"text-align: right;\">        15</td><td style=\"text-align: right;\">20151101001</td><td style=\"text-align: right;\">    1</td><td style=\"text-align: right;\">     12</td><td style=\"text-align: right;\">  2015</td><td style=\"text-align: right;\">       44</td><td>Sun      </td><td style=\"text-align: right;\">          0</td><td style=\"text-align: right;\">        1</td><td>Winter  </td></tr>\n",
       "<tr><td style=\"text-align: right;\">         1</td><td style=\"text-align: right;\">        13</td><td style=\"text-align: right;\">20151101011</td><td style=\"text-align: right;\">    1</td><td style=\"text-align: right;\">     12</td><td style=\"text-align: right;\">  2015</td><td style=\"text-align: right;\">       44</td><td>Sun      </td><td style=\"text-align: right;\">          1</td><td style=\"text-align: right;\">        1</td><td>Winter  </td></tr>\n",
       "<tr><td style=\"text-align: right;\">         1</td><td style=\"text-align: right;\">        10</td><td style=\"text-align: right;\">20151101021</td><td style=\"text-align: right;\">    1</td><td style=\"text-align: right;\">     12</td><td style=\"text-align: right;\">  2015</td><td style=\"text-align: right;\">       44</td><td>Sun      </td><td style=\"text-align: right;\">          2</td><td style=\"text-align: right;\">        1</td><td>Winter  </td></tr>\n",
       "<tr><td style=\"text-align: right;\">         1</td><td style=\"text-align: right;\">         7</td><td style=\"text-align: right;\">20151101031</td><td style=\"text-align: right;\">    1</td><td style=\"text-align: right;\">     12</td><td style=\"text-align: right;\">  2015</td><td style=\"text-align: right;\">       44</td><td>Sun      </td><td style=\"text-align: right;\">          3</td><td style=\"text-align: right;\">        1</td><td>Winter  </td></tr>\n",
       "<tr><td style=\"text-align: right;\">         1</td><td style=\"text-align: right;\">         9</td><td style=\"text-align: right;\">20151101041</td><td style=\"text-align: right;\">    1</td><td style=\"text-align: right;\">     12</td><td style=\"text-align: right;\">  2015</td><td style=\"text-align: right;\">       44</td><td>Sun      </td><td style=\"text-align: right;\">          4</td><td style=\"text-align: right;\">        1</td><td>Winter  </td></tr>\n",
       "<tr><td style=\"text-align: right;\">         1</td><td style=\"text-align: right;\">         6</td><td style=\"text-align: right;\">20151101051</td><td style=\"text-align: right;\">    1</td><td style=\"text-align: right;\">     12</td><td style=\"text-align: right;\">  2015</td><td style=\"text-align: right;\">       44</td><td>Sun      </td><td style=\"text-align: right;\">          5</td><td style=\"text-align: right;\">        1</td><td>Winter  </td></tr>\n",
       "<tr><td style=\"text-align: right;\">         1</td><td style=\"text-align: right;\">         9</td><td style=\"text-align: right;\">20151101061</td><td style=\"text-align: right;\">    1</td><td style=\"text-align: right;\">     12</td><td style=\"text-align: right;\">  2015</td><td style=\"text-align: right;\">       44</td><td>Sun      </td><td style=\"text-align: right;\">          6</td><td style=\"text-align: right;\">        1</td><td>Winter  </td></tr>\n",
       "<tr><td style=\"text-align: right;\">         1</td><td style=\"text-align: right;\">         8</td><td style=\"text-align: right;\">20151101071</td><td style=\"text-align: right;\">    1</td><td style=\"text-align: right;\">     12</td><td style=\"text-align: right;\">  2015</td><td style=\"text-align: right;\">       44</td><td>Sun      </td><td style=\"text-align: right;\">          7</td><td style=\"text-align: right;\">        1</td><td>Winter  </td></tr>\n",
       "<tr><td style=\"text-align: right;\">         1</td><td style=\"text-align: right;\">        11</td><td style=\"text-align: right;\">20151101081</td><td style=\"text-align: right;\">    1</td><td style=\"text-align: right;\">     12</td><td style=\"text-align: right;\">  2015</td><td style=\"text-align: right;\">       44</td><td>Sun      </td><td style=\"text-align: right;\">          8</td><td style=\"text-align: right;\">        1</td><td>Winter  </td></tr>\n",
       "<tr><td style=\"text-align: right;\">         1</td><td style=\"text-align: right;\">        12</td><td style=\"text-align: right;\">20151101091</td><td style=\"text-align: right;\">    1</td><td style=\"text-align: right;\">     12</td><td style=\"text-align: right;\">  2015</td><td style=\"text-align: right;\">       44</td><td>Sun      </td><td style=\"text-align: right;\">          9</td><td style=\"text-align: right;\">        1</td><td>Winter  </td></tr>\n",
       "</tbody>\n",
       "</table>"
      ]
     },
     "metadata": {},
     "output_type": "display_data"
    },
    {
     "data": {
      "text/plain": []
     },
     "execution_count": 78,
     "metadata": {},
     "output_type": "execute_result"
    }
   ],
   "source": [
    "train"
   ]
  },
  {
   "cell_type": "code",
   "execution_count": 117,
   "metadata": {},
   "outputs": [
    {
     "name": "stdout",
     "output_type": "stream",
     "text": [
      "Rows:11808\n",
      "Cols:9\n",
      "\n",
      "\n"
     ]
    },
    {
     "data": {
      "text/html": [
       "<table>\n",
       "<thead>\n",
       "<tr><th>       </th><th>DateTime           </th><th>Junction  </th><th>ID         </th><th>Day          </th><th>Month        </th><th>Year  </th><th>WeekNum      </th><th>WeekDay  </th><th>HourOfDay    </th></tr>\n",
       "</thead>\n",
       "<tbody>\n",
       "<tr><td>type   </td><td>time               </td><td>enum      </td><td>enum       </td><td>int          </td><td>int          </td><td>int   </td><td>int          </td><td>enum     </td><td>int          </td></tr>\n",
       "<tr><td>mins   </td><td>1.4988672e+12      </td><td>          </td><td>           </td><td>1.0          </td><td>8.0          </td><td>2017.0</td><td>26.0         </td><td>         </td><td>0.0          </td></tr>\n",
       "<tr><td>mean   </td><td>1.504179e+12       </td><td>          </td><td>           </td><td>15.8780487805</td><td>9.49593495935</td><td>2017.0</td><td>35.0         </td><td>         </td><td>11.5         </td></tr>\n",
       "<tr><td>maxs   </td><td>1.5094908e+12      </td><td>          </td><td>           </td><td>31.0         </td><td>11.0         </td><td>2017.0</td><td>44.0         </td><td>         </td><td>23.0         </td></tr>\n",
       "<tr><td>sigma  </td><td>3067938126.4       </td><td>          </td><td>           </td><td>8.87766527017</td><td>1.12170411131</td><td>0.0   </td><td>5.08486462215</td><td>         </td><td>6.92247968532</td></tr>\n",
       "<tr><td>zeros  </td><td>0                  </td><td>          </td><td>           </td><td>0            </td><td>0            </td><td>0     </td><td>0            </td><td>         </td><td>492          </td></tr>\n",
       "<tr><td>missing</td><td>0                  </td><td>0         </td><td>0          </td><td>0            </td><td>0            </td><td>0     </td><td>0            </td><td>0        </td><td>0            </td></tr>\n",
       "<tr><td>0      </td><td>2017-07-01 00:00:00</td><td>1         </td><td>20170701001</td><td>1.0          </td><td>8.0          </td><td>2017.0</td><td>26.0         </td><td>Sat      </td><td>0.0          </td></tr>\n",
       "<tr><td>1      </td><td>2017-07-01 01:00:00</td><td>1         </td><td>20170701011</td><td>1.0          </td><td>8.0          </td><td>2017.0</td><td>26.0         </td><td>Sat      </td><td>1.0          </td></tr>\n",
       "<tr><td>2      </td><td>2017-07-01 02:00:00</td><td>1         </td><td>20170701021</td><td>1.0          </td><td>8.0          </td><td>2017.0</td><td>26.0         </td><td>Sat      </td><td>2.0          </td></tr>\n",
       "<tr><td>3      </td><td>2017-07-01 03:00:00</td><td>1         </td><td>20170701031</td><td>1.0          </td><td>8.0          </td><td>2017.0</td><td>26.0         </td><td>Sat      </td><td>3.0          </td></tr>\n",
       "<tr><td>4      </td><td>2017-07-01 04:00:00</td><td>1         </td><td>20170701041</td><td>1.0          </td><td>8.0          </td><td>2017.0</td><td>26.0         </td><td>Sat      </td><td>4.0          </td></tr>\n",
       "<tr><td>5      </td><td>2017-07-01 05:00:00</td><td>1         </td><td>20170701051</td><td>1.0          </td><td>8.0          </td><td>2017.0</td><td>26.0         </td><td>Sat      </td><td>5.0          </td></tr>\n",
       "<tr><td>6      </td><td>2017-07-01 06:00:00</td><td>1         </td><td>20170701061</td><td>1.0          </td><td>8.0          </td><td>2017.0</td><td>26.0         </td><td>Sat      </td><td>6.0          </td></tr>\n",
       "<tr><td>7      </td><td>2017-07-01 07:00:00</td><td>1         </td><td>20170701071</td><td>1.0          </td><td>8.0          </td><td>2017.0</td><td>26.0         </td><td>Sat      </td><td>7.0          </td></tr>\n",
       "<tr><td>8      </td><td>2017-07-01 08:00:00</td><td>1         </td><td>20170701081</td><td>1.0          </td><td>8.0          </td><td>2017.0</td><td>26.0         </td><td>Sat      </td><td>8.0          </td></tr>\n",
       "<tr><td>9      </td><td>2017-07-01 09:00:00</td><td>1         </td><td>20170701091</td><td>1.0          </td><td>8.0          </td><td>2017.0</td><td>26.0         </td><td>Sat      </td><td>9.0          </td></tr>\n",
       "</tbody>\n",
       "</table>"
      ]
     },
     "metadata": {},
     "output_type": "display_data"
    },
    {
     "name": "stdout",
     "output_type": "stream",
     "text": [
      "Rows:11808\n",
      "Cols:10\n",
      "\n",
      "\n"
     ]
    },
    {
     "data": {
      "text/html": [
       "<table>\n",
       "<thead>\n",
       "<tr><th>       </th><th>Junction  </th><th>ID         </th><th>Day          </th><th>Month        </th><th>Year  </th><th>WeekNum      </th><th>WeekDay  </th><th>HourOfDay    </th><th>Weekend       </th><th>Season  </th></tr>\n",
       "</thead>\n",
       "<tbody>\n",
       "<tr><td>type   </td><td>enum      </td><td>enum       </td><td>int          </td><td>int          </td><td>int   </td><td>int          </td><td>enum     </td><td>int          </td><td>int           </td><td>enum    </td></tr>\n",
       "<tr><td>mins   </td><td>          </td><td>           </td><td>1.0          </td><td>8.0          </td><td>2017.0</td><td>26.0         </td><td>         </td><td>0.0          </td><td>0.0           </td><td>        </td></tr>\n",
       "<tr><td>mean   </td><td>          </td><td>           </td><td>15.8780487805</td><td>9.49593495935</td><td>2017.0</td><td>35.0         </td><td>         </td><td>11.5         </td><td>0.292682926829</td><td>        </td></tr>\n",
       "<tr><td>maxs   </td><td>          </td><td>           </td><td>31.0         </td><td>11.0         </td><td>2017.0</td><td>44.0         </td><td>         </td><td>23.0         </td><td>1.0           </td><td>        </td></tr>\n",
       "<tr><td>sigma  </td><td>          </td><td>           </td><td>8.87766527017</td><td>1.12170411131</td><td>0.0   </td><td>5.08486462215</td><td>         </td><td>6.92247968532</td><td>0.455013367724</td><td>        </td></tr>\n",
       "<tr><td>zeros  </td><td>          </td><td>           </td><td>0            </td><td>0            </td><td>0     </td><td>0            </td><td>         </td><td>492          </td><td>8352          </td><td>        </td></tr>\n",
       "<tr><td>missing</td><td>0         </td><td>0          </td><td>0            </td><td>0            </td><td>0     </td><td>0            </td><td>0        </td><td>0            </td><td>0             </td><td>0       </td></tr>\n",
       "<tr><td>0      </td><td>1         </td><td>20170701001</td><td>1.0          </td><td>8.0          </td><td>2017.0</td><td>26.0         </td><td>Sat      </td><td>0.0          </td><td>1.0           </td><td>Autumn  </td></tr>\n",
       "<tr><td>1      </td><td>1         </td><td>20170701011</td><td>1.0          </td><td>8.0          </td><td>2017.0</td><td>26.0         </td><td>Sat      </td><td>1.0          </td><td>1.0           </td><td>Autumn  </td></tr>\n",
       "<tr><td>2      </td><td>1         </td><td>20170701021</td><td>1.0          </td><td>8.0          </td><td>2017.0</td><td>26.0         </td><td>Sat      </td><td>2.0          </td><td>1.0           </td><td>Autumn  </td></tr>\n",
       "<tr><td>3      </td><td>1         </td><td>20170701031</td><td>1.0          </td><td>8.0          </td><td>2017.0</td><td>26.0         </td><td>Sat      </td><td>3.0          </td><td>1.0           </td><td>Autumn  </td></tr>\n",
       "<tr><td>4      </td><td>1         </td><td>20170701041</td><td>1.0          </td><td>8.0          </td><td>2017.0</td><td>26.0         </td><td>Sat      </td><td>4.0          </td><td>1.0           </td><td>Autumn  </td></tr>\n",
       "<tr><td>5      </td><td>1         </td><td>20170701051</td><td>1.0          </td><td>8.0          </td><td>2017.0</td><td>26.0         </td><td>Sat      </td><td>5.0          </td><td>1.0           </td><td>Autumn  </td></tr>\n",
       "<tr><td>6      </td><td>1         </td><td>20170701061</td><td>1.0          </td><td>8.0          </td><td>2017.0</td><td>26.0         </td><td>Sat      </td><td>6.0          </td><td>1.0           </td><td>Autumn  </td></tr>\n",
       "<tr><td>7      </td><td>1         </td><td>20170701071</td><td>1.0          </td><td>8.0          </td><td>2017.0</td><td>26.0         </td><td>Sat      </td><td>7.0          </td><td>1.0           </td><td>Autumn  </td></tr>\n",
       "<tr><td>8      </td><td>1         </td><td>20170701081</td><td>1.0          </td><td>8.0          </td><td>2017.0</td><td>26.0         </td><td>Sat      </td><td>8.0          </td><td>1.0           </td><td>Autumn  </td></tr>\n",
       "<tr><td>9      </td><td>1         </td><td>20170701091</td><td>1.0          </td><td>8.0          </td><td>2017.0</td><td>26.0         </td><td>Sat      </td><td>9.0          </td><td>1.0           </td><td>Autumn  </td></tr>\n",
       "</tbody>\n",
       "</table>"
      ]
     },
     "metadata": {},
     "output_type": "display_data"
    }
   ],
   "source": [
    "refine_date_col(test, \"DateTime\", \"%Y-%m-%d %H:%M:%S\")\n",
    "test = test.drop(\"DateTime\")\n",
    "test.describe()"
   ]
  },
  {
   "cell_type": "code",
   "execution_count": 80,
   "metadata": {},
   "outputs": [
    {
     "data": {
      "text/html": [
       "<table>\n",
       "<thead>\n",
       "<tr><th>Season  </th><th style=\"text-align: right;\">  Count</th></tr>\n",
       "</thead>\n",
       "<tbody>\n",
       "<tr><td>Winter  </td><td style=\"text-align: right;\">   5208</td></tr>\n",
       "<tr><td>Spring  </td><td style=\"text-align: right;\">  15024</td></tr>\n",
       "<tr><td>Summer  </td><td style=\"text-align: right;\">  10248</td></tr>\n",
       "<tr><td>Autumn  </td><td style=\"text-align: right;\">   6624</td></tr>\n",
       "<tr><td>Winter  </td><td style=\"text-align: right;\">   6552</td></tr>\n",
       "</tbody>\n",
       "</table>"
      ]
     },
     "metadata": {},
     "output_type": "display_data"
    },
    {
     "data": {
      "text/plain": []
     },
     "execution_count": 80,
     "metadata": {},
     "output_type": "execute_result"
    }
   ],
   "source": [
    "train['Season'].table()"
   ]
  },
  {
   "cell_type": "code",
   "execution_count": 81,
   "metadata": {},
   "outputs": [
    {
     "data": {
      "text/html": [
       "<table>\n",
       "<thead>\n",
       "<tr><th style=\"text-align: right;\">  Year</th><th style=\"text-align: right;\">  Count</th></tr>\n",
       "</thead>\n",
       "<tbody>\n",
       "<tr><td style=\"text-align: right;\">  2015</td><td style=\"text-align: right;\">   4392</td></tr>\n",
       "<tr><td style=\"text-align: right;\">  2016</td><td style=\"text-align: right;\">  26352</td></tr>\n",
       "<tr><td style=\"text-align: right;\">  2017</td><td style=\"text-align: right;\">  17376</td></tr>\n",
       "</tbody>\n",
       "</table>"
      ]
     },
     "metadata": {},
     "output_type": "display_data"
    },
    {
     "data": {
      "text/plain": []
     },
     "execution_count": 81,
     "metadata": {},
     "output_type": "execute_result"
    }
   ],
   "source": [
    "train['Year'].table()"
   ]
  },
  {
   "cell_type": "code",
   "execution_count": 83,
   "metadata": {},
   "outputs": [
    {
     "data": {
      "text/html": [
       "<table>\n",
       "<thead>\n",
       "<tr><th>Season  </th><th style=\"text-align: right;\">  Count</th></tr>\n",
       "</thead>\n",
       "<tbody>\n",
       "<tr><td>Autumn  </td><td style=\"text-align: right;\">   8832</td></tr>\n",
       "<tr><td>Winter  </td><td style=\"text-align: right;\">   2976</td></tr>\n",
       "</tbody>\n",
       "</table>"
      ]
     },
     "metadata": {},
     "output_type": "display_data"
    },
    {
     "data": {
      "text/plain": []
     },
     "execution_count": 83,
     "metadata": {},
     "output_type": "execute_result"
    }
   ],
   "source": [
    "test['Season'].table()"
   ]
  },
  {
   "cell_type": "markdown",
   "metadata": {},
   "source": [
    "# Manual"
   ]
  },
  {
   "cell_type": "code",
   "execution_count": 93,
   "metadata": {},
   "outputs": [
    {
     "name": "stdout",
     "output_type": "stream",
     "text": [
      "gbm Model Build progress: |███████████████████████████████████████████████| 100%\n"
     ]
    }
   ],
   "source": [
    "#manual setting\n",
    "s = time.time()\n",
    "  \n",
    "gbm0 = H2OGradientBoostingEstimator(model_id='gbm_manual',\n",
    "                                    seed=1234,\n",
    "                                    ntrees= 100, \n",
    "                                    max_depth=6,\n",
    "                                    col_sample_rate=0.9,\n",
    "                                    sample_rate=0.9)\n",
    "    \n",
    "features = train.names\n",
    "features.remove(\"Vehicles\")\n",
    "features.remove(\"ID\")\n",
    "gbm0.train(x =features,\n",
    "             y  =\"Vehicles\",\n",
    "             training_frame  =train,\n",
    "             )\n",
    "\n",
    "gbm_elapsed = time.time() - s"
   ]
  },
  {
   "cell_type": "code",
   "execution_count": 102,
   "metadata": {},
   "outputs": [
    {
     "name": "stdout",
     "output_type": "stream",
     "text": [
      "Model Details\n",
      "=============\n",
      "H2OGradientBoostingEstimator :  Gradient Boosting Machine\n",
      "Model Key:  gbm_manual\n",
      "\n",
      "\n",
      "ModelMetricsRegression: gbm\n",
      "** Reported on train data. **\n",
      "\n",
      "MSE: 21.2195427995\n",
      "RMSE: 4.60646749685\n",
      "MAE: 2.72009918344\n",
      "RMSLE: 0.226741413531\n",
      "Mean Residual Deviance: 21.2195427995\n",
      "Scoring History: \n"
     ]
    },
    {
     "data": {
      "text/html": [
       "<div style=\"overflow:auto\"><table style=\"width:50%\"><tr><td><b></b></td>\n",
       "<td><b>timestamp</b></td>\n",
       "<td><b>duration</b></td>\n",
       "<td><b>number_of_trees</b></td>\n",
       "<td><b>training_rmse</b></td>\n",
       "<td><b>training_mae</b></td>\n",
       "<td><b>training_deviance</b></td></tr>\n",
       "<tr><td></td>\n",
       "<td>2017-11-17 22:57:57</td>\n",
       "<td> 0.077 sec</td>\n",
       "<td>0.0</td>\n",
       "<td>20.7498469</td>\n",
       "<td>15.3889454</td>\n",
       "<td>430.5561468</td></tr>\n",
       "<tr><td></td>\n",
       "<td>2017-11-17 22:57:57</td>\n",
       "<td> 0.497 sec</td>\n",
       "<td>1.0</td>\n",
       "<td>18.9104691</td>\n",
       "<td>14.0253245</td>\n",
       "<td>357.6058418</td></tr>\n",
       "<tr><td></td>\n",
       "<td>2017-11-17 22:57:57</td>\n",
       "<td> 0.622 sec</td>\n",
       "<td>2.0</td>\n",
       "<td>17.2878303</td>\n",
       "<td>12.8165553</td>\n",
       "<td>298.8690754</td></tr>\n",
       "<tr><td></td>\n",
       "<td>2017-11-17 22:57:57</td>\n",
       "<td> 0.763 sec</td>\n",
       "<td>3.0</td>\n",
       "<td>15.8438876</td>\n",
       "<td>11.7353076</td>\n",
       "<td>251.0287753</td></tr>\n",
       "<tr><td></td>\n",
       "<td>2017-11-17 22:57:57</td>\n",
       "<td> 0.859 sec</td>\n",
       "<td>4.0</td>\n",
       "<td>14.5646535</td>\n",
       "<td>10.7715379</td>\n",
       "<td>212.1291304</td></tr>\n",
       "<tr><td>---</td>\n",
       "<td>---</td>\n",
       "<td>---</td>\n",
       "<td>---</td>\n",
       "<td>---</td>\n",
       "<td>---</td>\n",
       "<td>---</td></tr>\n",
       "<tr><td></td>\n",
       "<td>2017-11-17 22:58:00</td>\n",
       "<td> 3.548 sec</td>\n",
       "<td>96.0</td>\n",
       "<td>4.6345131</td>\n",
       "<td>2.7365160</td>\n",
       "<td>21.4787117</td></tr>\n",
       "<tr><td></td>\n",
       "<td>2017-11-17 22:58:00</td>\n",
       "<td> 3.566 sec</td>\n",
       "<td>97.0</td>\n",
       "<td>4.6254569</td>\n",
       "<td>2.7332339</td>\n",
       "<td>21.3948516</td></tr>\n",
       "<tr><td></td>\n",
       "<td>2017-11-17 22:58:00</td>\n",
       "<td> 3.584 sec</td>\n",
       "<td>98.0</td>\n",
       "<td>4.6197327</td>\n",
       "<td>2.7293643</td>\n",
       "<td>21.3419301</td></tr>\n",
       "<tr><td></td>\n",
       "<td>2017-11-17 22:58:00</td>\n",
       "<td> 3.601 sec</td>\n",
       "<td>99.0</td>\n",
       "<td>4.6110947</td>\n",
       "<td>2.7229278</td>\n",
       "<td>21.2621942</td></tr>\n",
       "<tr><td></td>\n",
       "<td>2017-11-17 22:58:00</td>\n",
       "<td> 3.622 sec</td>\n",
       "<td>100.0</td>\n",
       "<td>4.6064675</td>\n",
       "<td>2.7200992</td>\n",
       "<td>21.2195428</td></tr></table></div>"
      ],
      "text/plain": [
       "     timestamp            duration    number_of_trees    training_rmse    training_mae    training_deviance\n",
       "---  -------------------  ----------  -----------------  ---------------  --------------  -------------------\n",
       "     2017-11-17 22:57:57  0.077 sec   0.0                20.7498469114    15.3889454434   430.556146848\n",
       "     2017-11-17 22:57:57  0.497 sec   1.0                18.9104691047    14.0253244957   357.605841758\n",
       "     2017-11-17 22:57:57  0.622 sec   2.0                17.2878302701    12.8165552902   298.869075447\n",
       "     2017-11-17 22:57:57  0.763 sec   3.0                15.8438876322    11.7353075607   251.028775302\n",
       "     2017-11-17 22:57:57  0.859 sec   4.0                14.5646534606    10.7715379049   212.129130428\n",
       "---  ---                  ---         ---                ---              ---             ---\n",
       "     2017-11-17 22:58:00  3.548 sec   96.0               4.63451310109    2.73651595055   21.4787116842\n",
       "     2017-11-17 22:58:00  3.566 sec   97.0               4.62545690865    2.73323389774   21.3948516138\n",
       "     2017-11-17 22:58:00  3.584 sec   98.0               4.61973268889    2.7293643311    21.3419301168\n",
       "     2017-11-17 22:58:00  3.601 sec   99.0               4.61109468805    2.7229277738    21.2621942222\n",
       "     2017-11-17 22:58:00  3.622 sec   100.0              4.60646749685    2.72009918344   21.2195427995"
      ]
     },
     "metadata": {},
     "output_type": "display_data"
    },
    {
     "name": "stdout",
     "output_type": "stream",
     "text": [
      "\n",
      "See the whole table with table.as_data_frame()\n",
      "Variable Importances: \n"
     ]
    },
    {
     "data": {
      "text/html": [
       "<div style=\"overflow:auto\"><table style=\"width:50%\"><tr><td><b>variable</b></td>\n",
       "<td><b>relative_importance</b></td>\n",
       "<td><b>scaled_importance</b></td>\n",
       "<td><b>percentage</b></td></tr>\n",
       "<tr><td>Junction</td>\n",
       "<td>57224472.0000000</td>\n",
       "<td>1.0</td>\n",
       "<td>0.5881395</td></tr>\n",
       "<tr><td>Year</td>\n",
       "<td>15632369.0000000</td>\n",
       "<td>0.2731763</td>\n",
       "<td>0.1606658</td></tr>\n",
       "<tr><td>HourOfDay</td>\n",
       "<td>11760631.0000000</td>\n",
       "<td>0.2055175</td>\n",
       "<td>0.1208730</td></tr>\n",
       "<tr><td>WeekDay</td>\n",
       "<td>4453750.0</td>\n",
       "<td>0.0778295</td>\n",
       "<td>0.0457746</td></tr>\n",
       "<tr><td>Month</td>\n",
       "<td>2680045.5</td>\n",
       "<td>0.0468339</td>\n",
       "<td>0.0275449</td></tr>\n",
       "<tr><td>Weekend</td>\n",
       "<td>1955348.8750000</td>\n",
       "<td>0.0341698</td>\n",
       "<td>0.0200966</td></tr>\n",
       "<tr><td>WeekNum</td>\n",
       "<td>1812148.5</td>\n",
       "<td>0.0316674</td>\n",
       "<td>0.0186248</td></tr>\n",
       "<tr><td>Season</td>\n",
       "<td>1173426.0</td>\n",
       "<td>0.0205057</td>\n",
       "<td>0.0120602</td></tr>\n",
       "<tr><td>Day</td>\n",
       "<td>605254.3125000</td>\n",
       "<td>0.0105768</td>\n",
       "<td>0.0062207</td></tr></table></div>"
      ],
      "text/plain": [
       "variable    relative_importance    scaled_importance    percentage\n",
       "----------  ---------------------  -------------------  ------------\n",
       "Junction    5.72245e+07            1                    0.58814\n",
       "Year        1.56324e+07            0.273176             0.160666\n",
       "HourOfDay   1.17606e+07            0.205518             0.120873\n",
       "WeekDay     4.45375e+06            0.0778295            0.0457746\n",
       "Month       2.68005e+06            0.0468339            0.0275449\n",
       "Weekend     1.95535e+06            0.0341698            0.0200966\n",
       "WeekNum     1.81215e+06            0.0316674            0.0186248\n",
       "Season      1.17343e+06            0.0205057            0.0120602\n",
       "Day         605254                 0.0105768            0.00622066"
      ]
     },
     "metadata": {},
     "output_type": "display_data"
    },
    {
     "data": {
      "text/plain": [
       "<bound method H2OGradientBoostingEstimator.summary of >"
      ]
     },
     "execution_count": 102,
     "metadata": {},
     "output_type": "execute_result"
    }
   ],
   "source": [
    "gbm0.summary"
   ]
  },
  {
   "cell_type": "code",
   "execution_count": 99,
   "metadata": {},
   "outputs": [
    {
     "data": {
      "text/html": [
       "<table>\n",
       "<thead>\n",
       "<tr><th style=\"text-align: right;\">  Junction</th><th style=\"text-align: right;\">  Day</th><th style=\"text-align: right;\">  Month</th><th style=\"text-align: right;\">  Year</th><th style=\"text-align: right;\">  WeekNum</th><th>WeekDay  </th><th style=\"text-align: right;\">  HourOfDay</th><th style=\"text-align: right;\">  Weekend</th><th>Season  </th></tr>\n",
       "</thead>\n",
       "<tbody>\n",
       "<tr><td style=\"text-align: right;\">         1</td><td style=\"text-align: right;\">    1</td><td style=\"text-align: right;\">      8</td><td style=\"text-align: right;\">  2017</td><td style=\"text-align: right;\">       26</td><td>Sat      </td><td style=\"text-align: right;\">          0</td><td style=\"text-align: right;\">        1</td><td>Autumn  </td></tr>\n",
       "<tr><td style=\"text-align: right;\">         1</td><td style=\"text-align: right;\">    1</td><td style=\"text-align: right;\">      8</td><td style=\"text-align: right;\">  2017</td><td style=\"text-align: right;\">       26</td><td>Sat      </td><td style=\"text-align: right;\">          1</td><td style=\"text-align: right;\">        1</td><td>Autumn  </td></tr>\n",
       "<tr><td style=\"text-align: right;\">         1</td><td style=\"text-align: right;\">    1</td><td style=\"text-align: right;\">      8</td><td style=\"text-align: right;\">  2017</td><td style=\"text-align: right;\">       26</td><td>Sat      </td><td style=\"text-align: right;\">          2</td><td style=\"text-align: right;\">        1</td><td>Autumn  </td></tr>\n",
       "<tr><td style=\"text-align: right;\">         1</td><td style=\"text-align: right;\">    1</td><td style=\"text-align: right;\">      8</td><td style=\"text-align: right;\">  2017</td><td style=\"text-align: right;\">       26</td><td>Sat      </td><td style=\"text-align: right;\">          3</td><td style=\"text-align: right;\">        1</td><td>Autumn  </td></tr>\n",
       "<tr><td style=\"text-align: right;\">         1</td><td style=\"text-align: right;\">    1</td><td style=\"text-align: right;\">      8</td><td style=\"text-align: right;\">  2017</td><td style=\"text-align: right;\">       26</td><td>Sat      </td><td style=\"text-align: right;\">          4</td><td style=\"text-align: right;\">        1</td><td>Autumn  </td></tr>\n",
       "<tr><td style=\"text-align: right;\">         1</td><td style=\"text-align: right;\">    1</td><td style=\"text-align: right;\">      8</td><td style=\"text-align: right;\">  2017</td><td style=\"text-align: right;\">       26</td><td>Sat      </td><td style=\"text-align: right;\">          5</td><td style=\"text-align: right;\">        1</td><td>Autumn  </td></tr>\n",
       "<tr><td style=\"text-align: right;\">         1</td><td style=\"text-align: right;\">    1</td><td style=\"text-align: right;\">      8</td><td style=\"text-align: right;\">  2017</td><td style=\"text-align: right;\">       26</td><td>Sat      </td><td style=\"text-align: right;\">          6</td><td style=\"text-align: right;\">        1</td><td>Autumn  </td></tr>\n",
       "<tr><td style=\"text-align: right;\">         1</td><td style=\"text-align: right;\">    1</td><td style=\"text-align: right;\">      8</td><td style=\"text-align: right;\">  2017</td><td style=\"text-align: right;\">       26</td><td>Sat      </td><td style=\"text-align: right;\">          7</td><td style=\"text-align: right;\">        1</td><td>Autumn  </td></tr>\n",
       "<tr><td style=\"text-align: right;\">         1</td><td style=\"text-align: right;\">    1</td><td style=\"text-align: right;\">      8</td><td style=\"text-align: right;\">  2017</td><td style=\"text-align: right;\">       26</td><td>Sat      </td><td style=\"text-align: right;\">          8</td><td style=\"text-align: right;\">        1</td><td>Autumn  </td></tr>\n",
       "<tr><td style=\"text-align: right;\">         1</td><td style=\"text-align: right;\">    1</td><td style=\"text-align: right;\">      8</td><td style=\"text-align: right;\">  2017</td><td style=\"text-align: right;\">       26</td><td>Sat      </td><td style=\"text-align: right;\">          9</td><td style=\"text-align: right;\">        1</td><td>Autumn  </td></tr>\n",
       "</tbody>\n",
       "</table>"
      ]
     },
     "metadata": {},
     "output_type": "display_data"
    },
    {
     "data": {
      "text/plain": []
     },
     "execution_count": 99,
     "metadata": {},
     "output_type": "execute_result"
    }
   ],
   "source": [
    "test"
   ]
  },
  {
   "cell_type": "code",
   "execution_count": 103,
   "metadata": {},
   "outputs": [
    {
     "name": "stdout",
     "output_type": "stream",
     "text": [
      "gbm prediction progress: |████████████████████████████████████████████████| 100%\n"
     ]
    }
   ],
   "source": [
    "preds = gbm0.predict(test)"
   ]
  },
  {
   "cell_type": "markdown",
   "metadata": {},
   "source": [
    "# Manual Setting + Cross-Validation"
   ]
  },
  {
   "cell_type": "code",
   "execution_count": 155,
   "metadata": {},
   "outputs": [
    {
     "name": "stdout",
     "output_type": "stream",
     "text": [
      "gbm Model Build progress: |███████████████████████████████████████████████| 100%\n"
     ]
    }
   ],
   "source": [
    "#manual setting +CV\n",
    "s = time.time()\n",
    "  \n",
    "gbm1 = H2OGradientBoostingEstimator(model_id='gbm_manual1',\n",
    "                                    seed=1234,\n",
    "                                    ntrees= 100, \n",
    "                                    max_depth=6,\n",
    "                                    col_sample_rate=0.9,\n",
    "                                    sample_rate=0.9,\n",
    "                                    nfolds = 5)\n",
    "    \n",
    "features = train.names\n",
    "features.remove(\"Vehicles\")\n",
    "features.remove(\"ID\")\n",
    "gbm1.train(x =features,\n",
    "             y  =\"Vehicles\",\n",
    "             training_frame  =train,\n",
    "             )\n",
    "\n",
    "gbm_elapsed = time.time() - s"
   ]
  },
  {
   "cell_type": "code",
   "execution_count": 156,
   "metadata": {},
   "outputs": [
    {
     "name": "stdout",
     "output_type": "stream",
     "text": [
      "Model Details\n",
      "=============\n",
      "H2OGradientBoostingEstimator :  Gradient Boosting Machine\n",
      "Model Key:  gbm_manual1\n",
      "\n",
      "\n",
      "ModelMetricsRegression: gbm\n",
      "** Reported on train data. **\n",
      "\n",
      "MSE: 21.2195427995\n",
      "RMSE: 4.60646749685\n",
      "MAE: 2.72009918344\n",
      "RMSLE: 0.226741413531\n",
      "Mean Residual Deviance: 21.2195427995\n",
      "\n",
      "ModelMetricsRegression: gbm\n",
      "** Reported on cross-validation data. **\n",
      "\n",
      "MSE: 23.1341640793\n",
      "RMSE: 4.80979875663\n",
      "MAE: 2.83065988916\n",
      "RMSLE: 0.236420125625\n",
      "Mean Residual Deviance: 23.1341640793\n",
      "Cross-Validation Metrics Summary: \n"
     ]
    },
    {
     "data": {
      "text/html": [
       "<div style=\"overflow:auto\"><table style=\"width:50%\"><tr><td><b></b></td>\n",
       "<td><b>mean</b></td>\n",
       "<td><b>sd</b></td>\n",
       "<td><b>cv_1_valid</b></td>\n",
       "<td><b>cv_2_valid</b></td>\n",
       "<td><b>cv_3_valid</b></td>\n",
       "<td><b>cv_4_valid</b></td>\n",
       "<td><b>cv_5_valid</b></td></tr>\n",
       "<tr><td>mae</td>\n",
       "<td>2.830688</td>\n",
       "<td>0.0243806</td>\n",
       "<td>2.8034394</td>\n",
       "<td>2.8900363</td>\n",
       "<td>2.8305</td>\n",
       "<td>2.790543</td>\n",
       "<td>2.838921</td></tr>\n",
       "<tr><td>mean_residual_deviance</td>\n",
       "<td>23.139494</td>\n",
       "<td>1.5785824</td>\n",
       "<td>23.352476</td>\n",
       "<td>27.159534</td>\n",
       "<td>20.91363</td>\n",
       "<td>21.20202</td>\n",
       "<td>23.069813</td></tr>\n",
       "<tr><td>mse</td>\n",
       "<td>23.139494</td>\n",
       "<td>1.5785824</td>\n",
       "<td>23.352476</td>\n",
       "<td>27.159534</td>\n",
       "<td>20.91363</td>\n",
       "<td>21.20202</td>\n",
       "<td>23.069813</td></tr>\n",
       "<tr><td>r2</td>\n",
       "<td>0.9461834</td>\n",
       "<td>0.0041132</td>\n",
       "<td>0.9442265</td>\n",
       "<td>0.9360531</td>\n",
       "<td>0.9522212</td>\n",
       "<td>0.9512054</td>\n",
       "<td>0.9472112</td></tr>\n",
       "<tr><td>residual_deviance</td>\n",
       "<td>23.139494</td>\n",
       "<td>1.5785824</td>\n",
       "<td>23.352476</td>\n",
       "<td>27.159534</td>\n",
       "<td>20.91363</td>\n",
       "<td>21.20202</td>\n",
       "<td>23.069813</td></tr>\n",
       "<tr><td>rmse</td>\n",
       "<td>4.8049464</td>\n",
       "<td>0.1612190</td>\n",
       "<td>4.83244</td>\n",
       "<td>5.211481</td>\n",
       "<td>4.573142</td>\n",
       "<td>4.604565</td>\n",
       "<td>4.8031044</td></tr>\n",
       "<tr><td>rmsle</td>\n",
       "<td>0.2364073</td>\n",
       "<td>0.0023127</td>\n",
       "<td>0.2363034</td>\n",
       "<td>0.2398918</td>\n",
       "<td>0.2327701</td>\n",
       "<td>0.2327893</td>\n",
       "<td>0.2402822</td></tr></table></div>"
      ],
      "text/plain": [
       "                        mean      sd          cv_1_valid    cv_2_valid    cv_3_valid    cv_4_valid    cv_5_valid\n",
       "----------------------  --------  ----------  ------------  ------------  ------------  ------------  ------------\n",
       "mae                     2.83069   0.0243806   2.80344       2.89004       2.8305        2.79054       2.83892\n",
       "mean_residual_deviance  23.1395   1.57858     23.3525       27.1595       20.9136       21.202        23.0698\n",
       "mse                     23.1395   1.57858     23.3525       27.1595       20.9136       21.202        23.0698\n",
       "r2                      0.946183  0.0041132   0.944226      0.936053      0.952221      0.951205      0.947211\n",
       "residual_deviance       23.1395   1.57858     23.3525       27.1595       20.9136       21.202        23.0698\n",
       "rmse                    4.80495   0.161219    4.83244       5.21148       4.57314       4.60457       4.8031\n",
       "rmsle                   0.236407  0.00231272  0.236303      0.239892      0.23277       0.232789      0.240282"
      ]
     },
     "metadata": {},
     "output_type": "display_data"
    },
    {
     "name": "stdout",
     "output_type": "stream",
     "text": [
      "Scoring History: \n"
     ]
    },
    {
     "data": {
      "text/html": [
       "<div style=\"overflow:auto\"><table style=\"width:50%\"><tr><td><b></b></td>\n",
       "<td><b>timestamp</b></td>\n",
       "<td><b>duration</b></td>\n",
       "<td><b>number_of_trees</b></td>\n",
       "<td><b>training_rmse</b></td>\n",
       "<td><b>training_mae</b></td>\n",
       "<td><b>training_deviance</b></td></tr>\n",
       "<tr><td></td>\n",
       "<td>2017-11-17 23:50:35</td>\n",
       "<td>10.143 sec</td>\n",
       "<td>0.0</td>\n",
       "<td>20.7498469</td>\n",
       "<td>15.3889454</td>\n",
       "<td>430.5561468</td></tr>\n",
       "<tr><td></td>\n",
       "<td>2017-11-17 23:50:35</td>\n",
       "<td>10.157 sec</td>\n",
       "<td>1.0</td>\n",
       "<td>18.9104691</td>\n",
       "<td>14.0253245</td>\n",
       "<td>357.6058418</td></tr>\n",
       "<tr><td></td>\n",
       "<td>2017-11-17 23:50:35</td>\n",
       "<td>10.170 sec</td>\n",
       "<td>2.0</td>\n",
       "<td>17.2878303</td>\n",
       "<td>12.8165553</td>\n",
       "<td>298.8690754</td></tr>\n",
       "<tr><td></td>\n",
       "<td>2017-11-17 23:50:35</td>\n",
       "<td>10.182 sec</td>\n",
       "<td>3.0</td>\n",
       "<td>15.8438876</td>\n",
       "<td>11.7353076</td>\n",
       "<td>251.0287753</td></tr>\n",
       "<tr><td></td>\n",
       "<td>2017-11-17 23:50:35</td>\n",
       "<td>10.195 sec</td>\n",
       "<td>4.0</td>\n",
       "<td>14.5646535</td>\n",
       "<td>10.7715379</td>\n",
       "<td>212.1291304</td></tr>\n",
       "<tr><td>---</td>\n",
       "<td>---</td>\n",
       "<td>---</td>\n",
       "<td>---</td>\n",
       "<td>---</td>\n",
       "<td>---</td>\n",
       "<td>---</td></tr>\n",
       "<tr><td></td>\n",
       "<td>2017-11-17 23:50:36</td>\n",
       "<td>11.405 sec</td>\n",
       "<td>96.0</td>\n",
       "<td>4.6345131</td>\n",
       "<td>2.7365160</td>\n",
       "<td>21.4787117</td></tr>\n",
       "<tr><td></td>\n",
       "<td>2017-11-17 23:50:36</td>\n",
       "<td>11.419 sec</td>\n",
       "<td>97.0</td>\n",
       "<td>4.6254569</td>\n",
       "<td>2.7332339</td>\n",
       "<td>21.3948516</td></tr>\n",
       "<tr><td></td>\n",
       "<td>2017-11-17 23:50:36</td>\n",
       "<td>11.432 sec</td>\n",
       "<td>98.0</td>\n",
       "<td>4.6197327</td>\n",
       "<td>2.7293643</td>\n",
       "<td>21.3419301</td></tr>\n",
       "<tr><td></td>\n",
       "<td>2017-11-17 23:50:36</td>\n",
       "<td>11.444 sec</td>\n",
       "<td>99.0</td>\n",
       "<td>4.6110947</td>\n",
       "<td>2.7229278</td>\n",
       "<td>21.2621942</td></tr>\n",
       "<tr><td></td>\n",
       "<td>2017-11-17 23:50:37</td>\n",
       "<td>11.458 sec</td>\n",
       "<td>100.0</td>\n",
       "<td>4.6064675</td>\n",
       "<td>2.7200992</td>\n",
       "<td>21.2195428</td></tr></table></div>"
      ],
      "text/plain": [
       "     timestamp            duration    number_of_trees    training_rmse    training_mae    training_deviance\n",
       "---  -------------------  ----------  -----------------  ---------------  --------------  -------------------\n",
       "     2017-11-17 23:50:35  10.143 sec  0.0                20.7498469114    15.3889454434   430.556146848\n",
       "     2017-11-17 23:50:35  10.157 sec  1.0                18.9104691047    14.0253244957   357.605841758\n",
       "     2017-11-17 23:50:35  10.170 sec  2.0                17.2878302701    12.8165552902   298.869075447\n",
       "     2017-11-17 23:50:35  10.182 sec  3.0                15.8438876322    11.7353075607   251.028775302\n",
       "     2017-11-17 23:50:35  10.195 sec  4.0                14.5646534606    10.7715379049   212.129130428\n",
       "---  ---                  ---         ---                ---              ---             ---\n",
       "     2017-11-17 23:50:36  11.405 sec  96.0               4.63451310109    2.73651595055   21.4787116842\n",
       "     2017-11-17 23:50:36  11.419 sec  97.0               4.62545690865    2.73323389774   21.3948516138\n",
       "     2017-11-17 23:50:36  11.432 sec  98.0               4.61973268889    2.7293643311    21.3419301168\n",
       "     2017-11-17 23:50:36  11.444 sec  99.0               4.61109468805    2.7229277738    21.2621942222\n",
       "     2017-11-17 23:50:37  11.458 sec  100.0              4.60646749685    2.72009918344   21.2195427995"
      ]
     },
     "metadata": {},
     "output_type": "display_data"
    },
    {
     "name": "stdout",
     "output_type": "stream",
     "text": [
      "\n",
      "See the whole table with table.as_data_frame()\n",
      "Variable Importances: \n"
     ]
    },
    {
     "data": {
      "text/html": [
       "<div style=\"overflow:auto\"><table style=\"width:50%\"><tr><td><b>variable</b></td>\n",
       "<td><b>relative_importance</b></td>\n",
       "<td><b>scaled_importance</b></td>\n",
       "<td><b>percentage</b></td></tr>\n",
       "<tr><td>Junction</td>\n",
       "<td>57224472.0000000</td>\n",
       "<td>1.0</td>\n",
       "<td>0.5881395</td></tr>\n",
       "<tr><td>Year</td>\n",
       "<td>15632369.0000000</td>\n",
       "<td>0.2731763</td>\n",
       "<td>0.1606658</td></tr>\n",
       "<tr><td>HourOfDay</td>\n",
       "<td>11760631.0000000</td>\n",
       "<td>0.2055175</td>\n",
       "<td>0.1208730</td></tr>\n",
       "<tr><td>WeekDay</td>\n",
       "<td>4453750.0</td>\n",
       "<td>0.0778295</td>\n",
       "<td>0.0457746</td></tr>\n",
       "<tr><td>Month</td>\n",
       "<td>2680045.5</td>\n",
       "<td>0.0468339</td>\n",
       "<td>0.0275449</td></tr>\n",
       "<tr><td>Weekend</td>\n",
       "<td>1955348.8750000</td>\n",
       "<td>0.0341698</td>\n",
       "<td>0.0200966</td></tr>\n",
       "<tr><td>WeekNum</td>\n",
       "<td>1812148.5</td>\n",
       "<td>0.0316674</td>\n",
       "<td>0.0186248</td></tr>\n",
       "<tr><td>Season</td>\n",
       "<td>1173426.0</td>\n",
       "<td>0.0205057</td>\n",
       "<td>0.0120602</td></tr>\n",
       "<tr><td>Day</td>\n",
       "<td>605254.3125000</td>\n",
       "<td>0.0105768</td>\n",
       "<td>0.0062207</td></tr></table></div>"
      ],
      "text/plain": [
       "variable    relative_importance    scaled_importance    percentage\n",
       "----------  ---------------------  -------------------  ------------\n",
       "Junction    5.72245e+07            1                    0.58814\n",
       "Year        1.56324e+07            0.273176             0.160666\n",
       "HourOfDay   1.17606e+07            0.205518             0.120873\n",
       "WeekDay     4.45375e+06            0.0778295            0.0457746\n",
       "Month       2.68005e+06            0.0468339            0.0275449\n",
       "Weekend     1.95535e+06            0.0341698            0.0200966\n",
       "WeekNum     1.81215e+06            0.0316674            0.0186248\n",
       "Season      1.17343e+06            0.0205057            0.0120602\n",
       "Day         605254                 0.0105768            0.00622066"
      ]
     },
     "metadata": {},
     "output_type": "display_data"
    },
    {
     "data": {
      "text/plain": []
     },
     "execution_count": 156,
     "metadata": {},
     "output_type": "execute_result"
    }
   ],
   "source": [
    "gbm1"
   ]
  },
  {
   "cell_type": "code",
   "execution_count": 125,
   "metadata": {},
   "outputs": [
    {
     "name": "stdout",
     "output_type": "stream",
     "text": [
      "gbm prediction progress: |████████████████████████████████████████████████| 100%\n"
     ]
    }
   ],
   "source": [
    "preds = gbm1.predict(test)"
   ]
  },
  {
   "cell_type": "markdown",
   "metadata": {},
   "source": [
    "# manual setting+cv+early stopping"
   ]
  },
  {
   "cell_type": "code",
   "execution_count": 157,
   "metadata": {},
   "outputs": [
    {
     "name": "stdout",
     "output_type": "stream",
     "text": [
      "gbm Model Build progress: |███████████████████████████████████████████████| 100%\n"
     ]
    }
   ],
   "source": [
    "#manual setting +CV\n",
    "s = time.time()\n",
    "  \n",
    "gbm2 = H2OGradientBoostingEstimator(model_id='gbm_manual2',\n",
    "                                    seed=1234,\n",
    "                                    ntrees= 100, \n",
    "                                    max_depth=6,\n",
    "                                    col_sample_rate=0.9,\n",
    "                                    sample_rate=0.9,\n",
    "                                    nfolds = 5,\n",
    "                                    stopping_metric='mse',\n",
    "                                    stopping_rounds=15,\n",
    "                                    score_tree_interval=1)\n",
    "    \n",
    "features = train.names\n",
    "features.remove(\"Vehicles\")\n",
    "features.remove(\"ID\")\n",
    "gbm2.train(x =features,\n",
    "             y  =\"Vehicles\",\n",
    "             training_frame  =train,\n",
    "             )\n",
    "\n",
    "gbm_elapsed = time.time() - s"
   ]
  },
  {
   "cell_type": "code",
   "execution_count": 158,
   "metadata": {},
   "outputs": [
    {
     "name": "stdout",
     "output_type": "stream",
     "text": [
      "Model Details\n",
      "=============\n",
      "H2OGradientBoostingEstimator :  Gradient Boosting Machine\n",
      "Model Key:  gbm_manual2\n",
      "\n",
      "\n",
      "ModelMetricsRegression: gbm\n",
      "** Reported on train data. **\n",
      "\n",
      "MSE: 21.2195427995\n",
      "RMSE: 4.60646749685\n",
      "MAE: 2.72009918344\n",
      "RMSLE: 0.226741413531\n",
      "Mean Residual Deviance: 21.2195427995\n",
      "\n",
      "ModelMetricsRegression: gbm\n",
      "** Reported on cross-validation data. **\n",
      "\n",
      "MSE: 23.1341640793\n",
      "RMSE: 4.80979875663\n",
      "MAE: 2.83065988916\n",
      "RMSLE: 0.236420125625\n",
      "Mean Residual Deviance: 23.1341640793\n",
      "Cross-Validation Metrics Summary: \n"
     ]
    },
    {
     "data": {
      "text/html": [
       "<div style=\"overflow:auto\"><table style=\"width:50%\"><tr><td><b></b></td>\n",
       "<td><b>mean</b></td>\n",
       "<td><b>sd</b></td>\n",
       "<td><b>cv_1_valid</b></td>\n",
       "<td><b>cv_2_valid</b></td>\n",
       "<td><b>cv_3_valid</b></td>\n",
       "<td><b>cv_4_valid</b></td>\n",
       "<td><b>cv_5_valid</b></td></tr>\n",
       "<tr><td>mae</td>\n",
       "<td>2.830688</td>\n",
       "<td>0.0243806</td>\n",
       "<td>2.8034394</td>\n",
       "<td>2.8900363</td>\n",
       "<td>2.8305</td>\n",
       "<td>2.790543</td>\n",
       "<td>2.838921</td></tr>\n",
       "<tr><td>mean_residual_deviance</td>\n",
       "<td>23.139494</td>\n",
       "<td>1.5785824</td>\n",
       "<td>23.352476</td>\n",
       "<td>27.159534</td>\n",
       "<td>20.91363</td>\n",
       "<td>21.20202</td>\n",
       "<td>23.069813</td></tr>\n",
       "<tr><td>mse</td>\n",
       "<td>23.139494</td>\n",
       "<td>1.5785824</td>\n",
       "<td>23.352476</td>\n",
       "<td>27.159534</td>\n",
       "<td>20.91363</td>\n",
       "<td>21.20202</td>\n",
       "<td>23.069813</td></tr>\n",
       "<tr><td>r2</td>\n",
       "<td>0.9461834</td>\n",
       "<td>0.0041132</td>\n",
       "<td>0.9442265</td>\n",
       "<td>0.9360531</td>\n",
       "<td>0.9522212</td>\n",
       "<td>0.9512054</td>\n",
       "<td>0.9472112</td></tr>\n",
       "<tr><td>residual_deviance</td>\n",
       "<td>23.139494</td>\n",
       "<td>1.5785824</td>\n",
       "<td>23.352476</td>\n",
       "<td>27.159534</td>\n",
       "<td>20.91363</td>\n",
       "<td>21.20202</td>\n",
       "<td>23.069813</td></tr>\n",
       "<tr><td>rmse</td>\n",
       "<td>4.8049464</td>\n",
       "<td>0.1612190</td>\n",
       "<td>4.83244</td>\n",
       "<td>5.211481</td>\n",
       "<td>4.573142</td>\n",
       "<td>4.604565</td>\n",
       "<td>4.8031044</td></tr>\n",
       "<tr><td>rmsle</td>\n",
       "<td>0.2364073</td>\n",
       "<td>0.0023127</td>\n",
       "<td>0.2363034</td>\n",
       "<td>0.2398918</td>\n",
       "<td>0.2327701</td>\n",
       "<td>0.2327893</td>\n",
       "<td>0.2402822</td></tr></table></div>"
      ],
      "text/plain": [
       "                        mean      sd          cv_1_valid    cv_2_valid    cv_3_valid    cv_4_valid    cv_5_valid\n",
       "----------------------  --------  ----------  ------------  ------------  ------------  ------------  ------------\n",
       "mae                     2.83069   0.0243806   2.80344       2.89004       2.8305        2.79054       2.83892\n",
       "mean_residual_deviance  23.1395   1.57858     23.3525       27.1595       20.9136       21.202        23.0698\n",
       "mse                     23.1395   1.57858     23.3525       27.1595       20.9136       21.202        23.0698\n",
       "r2                      0.946183  0.0041132   0.944226      0.936053      0.952221      0.951205      0.947211\n",
       "residual_deviance       23.1395   1.57858     23.3525       27.1595       20.9136       21.202        23.0698\n",
       "rmse                    4.80495   0.161219    4.83244       5.21148       4.57314       4.60457       4.8031\n",
       "rmsle                   0.236407  0.00231272  0.236303      0.239892      0.23277       0.232789      0.240282"
      ]
     },
     "metadata": {},
     "output_type": "display_data"
    },
    {
     "name": "stdout",
     "output_type": "stream",
     "text": [
      "Scoring History: \n"
     ]
    },
    {
     "data": {
      "text/html": [
       "<div style=\"overflow:auto\"><table style=\"width:50%\"><tr><td><b></b></td>\n",
       "<td><b>timestamp</b></td>\n",
       "<td><b>duration</b></td>\n",
       "<td><b>number_of_trees</b></td>\n",
       "<td><b>training_rmse</b></td>\n",
       "<td><b>training_mae</b></td>\n",
       "<td><b>training_deviance</b></td></tr>\n",
       "<tr><td></td>\n",
       "<td>2017-11-17 23:51:34</td>\n",
       "<td>24.109 sec</td>\n",
       "<td>0.0</td>\n",
       "<td>20.7498469</td>\n",
       "<td>15.3889454</td>\n",
       "<td>430.5561468</td></tr>\n",
       "<tr><td></td>\n",
       "<td>2017-11-17 23:51:34</td>\n",
       "<td>24.123 sec</td>\n",
       "<td>1.0</td>\n",
       "<td>18.9104691</td>\n",
       "<td>14.0253245</td>\n",
       "<td>357.6058418</td></tr>\n",
       "<tr><td></td>\n",
       "<td>2017-11-17 23:51:34</td>\n",
       "<td>24.138 sec</td>\n",
       "<td>2.0</td>\n",
       "<td>17.2878303</td>\n",
       "<td>12.8165553</td>\n",
       "<td>298.8690754</td></tr>\n",
       "<tr><td></td>\n",
       "<td>2017-11-17 23:51:34</td>\n",
       "<td>24.150 sec</td>\n",
       "<td>3.0</td>\n",
       "<td>15.8438876</td>\n",
       "<td>11.7353076</td>\n",
       "<td>251.0287753</td></tr>\n",
       "<tr><td></td>\n",
       "<td>2017-11-17 23:51:34</td>\n",
       "<td>24.163 sec</td>\n",
       "<td>4.0</td>\n",
       "<td>14.5646535</td>\n",
       "<td>10.7715379</td>\n",
       "<td>212.1291304</td></tr>\n",
       "<tr><td>---</td>\n",
       "<td>---</td>\n",
       "<td>---</td>\n",
       "<td>---</td>\n",
       "<td>---</td>\n",
       "<td>---</td>\n",
       "<td>---</td></tr>\n",
       "<tr><td></td>\n",
       "<td>2017-11-17 23:51:36</td>\n",
       "<td>26.260 sec</td>\n",
       "<td>96.0</td>\n",
       "<td>4.6345131</td>\n",
       "<td>2.7365160</td>\n",
       "<td>21.4787117</td></tr>\n",
       "<tr><td></td>\n",
       "<td>2017-11-17 23:51:36</td>\n",
       "<td>26.274 sec</td>\n",
       "<td>97.0</td>\n",
       "<td>4.6254569</td>\n",
       "<td>2.7332339</td>\n",
       "<td>21.3948516</td></tr>\n",
       "<tr><td></td>\n",
       "<td>2017-11-17 23:51:36</td>\n",
       "<td>26.287 sec</td>\n",
       "<td>98.0</td>\n",
       "<td>4.6197327</td>\n",
       "<td>2.7293643</td>\n",
       "<td>21.3419301</td></tr>\n",
       "<tr><td></td>\n",
       "<td>2017-11-17 23:51:36</td>\n",
       "<td>26.301 sec</td>\n",
       "<td>99.0</td>\n",
       "<td>4.6110947</td>\n",
       "<td>2.7229278</td>\n",
       "<td>21.2621942</td></tr>\n",
       "<tr><td></td>\n",
       "<td>2017-11-17 23:51:36</td>\n",
       "<td>26.314 sec</td>\n",
       "<td>100.0</td>\n",
       "<td>4.6064675</td>\n",
       "<td>2.7200992</td>\n",
       "<td>21.2195428</td></tr></table></div>"
      ],
      "text/plain": [
       "     timestamp            duration    number_of_trees    training_rmse    training_mae    training_deviance\n",
       "---  -------------------  ----------  -----------------  ---------------  --------------  -------------------\n",
       "     2017-11-17 23:51:34  24.109 sec  0.0                20.7498469114    15.3889454434   430.556146848\n",
       "     2017-11-17 23:51:34  24.123 sec  1.0                18.9104691047    14.0253244957   357.605841758\n",
       "     2017-11-17 23:51:34  24.138 sec  2.0                17.2878302701    12.8165552902   298.869075447\n",
       "     2017-11-17 23:51:34  24.150 sec  3.0                15.8438876322    11.7353075607   251.028775302\n",
       "     2017-11-17 23:51:34  24.163 sec  4.0                14.5646534606    10.7715379049   212.129130428\n",
       "---  ---                  ---         ---                ---              ---             ---\n",
       "     2017-11-17 23:51:36  26.260 sec  96.0               4.63451310109    2.73651595055   21.4787116842\n",
       "     2017-11-17 23:51:36  26.274 sec  97.0               4.62545690865    2.73323389774   21.3948516138\n",
       "     2017-11-17 23:51:36  26.287 sec  98.0               4.61973268889    2.7293643311    21.3419301168\n",
       "     2017-11-17 23:51:36  26.301 sec  99.0               4.61109468805    2.7229277738    21.2621942222\n",
       "     2017-11-17 23:51:36  26.314 sec  100.0              4.60646749685    2.72009918344   21.2195427995"
      ]
     },
     "metadata": {},
     "output_type": "display_data"
    },
    {
     "name": "stdout",
     "output_type": "stream",
     "text": [
      "\n",
      "See the whole table with table.as_data_frame()\n",
      "Variable Importances: \n"
     ]
    },
    {
     "data": {
      "text/html": [
       "<div style=\"overflow:auto\"><table style=\"width:50%\"><tr><td><b>variable</b></td>\n",
       "<td><b>relative_importance</b></td>\n",
       "<td><b>scaled_importance</b></td>\n",
       "<td><b>percentage</b></td></tr>\n",
       "<tr><td>Junction</td>\n",
       "<td>57224472.0000000</td>\n",
       "<td>1.0</td>\n",
       "<td>0.5881395</td></tr>\n",
       "<tr><td>Year</td>\n",
       "<td>15632369.0000000</td>\n",
       "<td>0.2731763</td>\n",
       "<td>0.1606658</td></tr>\n",
       "<tr><td>HourOfDay</td>\n",
       "<td>11760631.0000000</td>\n",
       "<td>0.2055175</td>\n",
       "<td>0.1208730</td></tr>\n",
       "<tr><td>WeekDay</td>\n",
       "<td>4453750.0</td>\n",
       "<td>0.0778295</td>\n",
       "<td>0.0457746</td></tr>\n",
       "<tr><td>Month</td>\n",
       "<td>2680045.5</td>\n",
       "<td>0.0468339</td>\n",
       "<td>0.0275449</td></tr>\n",
       "<tr><td>Weekend</td>\n",
       "<td>1955348.8750000</td>\n",
       "<td>0.0341698</td>\n",
       "<td>0.0200966</td></tr>\n",
       "<tr><td>WeekNum</td>\n",
       "<td>1812148.5</td>\n",
       "<td>0.0316674</td>\n",
       "<td>0.0186248</td></tr>\n",
       "<tr><td>Season</td>\n",
       "<td>1173426.0</td>\n",
       "<td>0.0205057</td>\n",
       "<td>0.0120602</td></tr>\n",
       "<tr><td>Day</td>\n",
       "<td>605254.3125000</td>\n",
       "<td>0.0105768</td>\n",
       "<td>0.0062207</td></tr></table></div>"
      ],
      "text/plain": [
       "variable    relative_importance    scaled_importance    percentage\n",
       "----------  ---------------------  -------------------  ------------\n",
       "Junction    5.72245e+07            1                    0.58814\n",
       "Year        1.56324e+07            0.273176             0.160666\n",
       "HourOfDay   1.17606e+07            0.205518             0.120873\n",
       "WeekDay     4.45375e+06            0.0778295            0.0457746\n",
       "Month       2.68005e+06            0.0468339            0.0275449\n",
       "Weekend     1.95535e+06            0.0341698            0.0200966\n",
       "WeekNum     1.81215e+06            0.0316674            0.0186248\n",
       "Season      1.17343e+06            0.0205057            0.0120602\n",
       "Day         605254                 0.0105768            0.00622066"
      ]
     },
     "metadata": {},
     "output_type": "display_data"
    },
    {
     "data": {
      "text/plain": []
     },
     "execution_count": 158,
     "metadata": {},
     "output_type": "execute_result"
    }
   ],
   "source": [
    "gbm2"
   ]
  },
  {
   "cell_type": "markdown",
   "metadata": {},
   "source": [
    "# Grid search"
   ]
  },
  {
   "cell_type": "code",
   "execution_count": 161,
   "metadata": {},
   "outputs": [
    {
     "name": "stdout",
     "output_type": "stream",
     "text": [
      "gbm Grid Build progress: |████████████████████████████████████████████████| 100%\n"
     ]
    }
   ],
   "source": [
    "#manual setting +CV\n",
    "s = time.time()\n",
    "\n",
    "from h2o.grid.grid_search import H2OGridSearch\n",
    "\n",
    "search_criteria = {'strategy':'Cartesian'}\n",
    "\n",
    "hyper_parameters = {'sample_rate':[0.7,0.8,0.9], 'col_sample_rate':[0.7,0.8,0.9]}\n",
    "  \n",
    "gbm3 = H2OGridSearch(\n",
    "            H2OGradientBoostingEstimator(\n",
    "                                    model_id='gbm_manual',\n",
    "                                    seed=1234,\n",
    "                                    ntrees= 100, \n",
    "                                    max_depth=6,\n",
    "                                    nfolds = 5,\n",
    "                                    stopping_metric='mse',\n",
    "                                    stopping_rounds=15,\n",
    "                                    score_tree_interval=1),\n",
    "                                    search_criteria = search_criteria,\n",
    "                                   hyper_params = hyper_parameters)\n",
    "    \n",
    "features = train.names\n",
    "features.remove(\"Vehicles\")\n",
    "features.remove(\"ID\")\n",
    "gbm3.train(x =features,\n",
    "             y  =\"Vehicles\",\n",
    "             training_frame  =train,\n",
    "             )\n",
    "\n",
    "gbm_elapsed = time.time() - s"
   ]
  },
  {
   "cell_type": "code",
   "execution_count": 165,
   "metadata": {},
   "outputs": [
    {
     "name": "stdout",
     "output_type": "stream",
     "text": [
      "    col_sample_rate sample_rate  \\\n",
      "0               0.9         0.8   \n",
      "1               0.9         0.7   \n",
      "2               0.9         0.9   \n",
      "3               0.8         0.8   \n",
      "4               0.8         0.7   \n",
      "5               0.7         0.7   \n",
      "6               0.8         0.9   \n",
      "7               0.7         0.9   \n",
      "8               0.7         0.8   \n",
      "\n",
      "                                                      model_ids  \\\n",
      "0  Grid_GBM_py_50_sid_8c9e_model_python_1510970162667_1_model_5   \n",
      "1  Grid_GBM_py_50_sid_8c9e_model_python_1510970162667_1_model_2   \n",
      "2  Grid_GBM_py_50_sid_8c9e_model_python_1510970162667_1_model_8   \n",
      "3  Grid_GBM_py_50_sid_8c9e_model_python_1510970162667_1_model_4   \n",
      "4  Grid_GBM_py_50_sid_8c9e_model_python_1510970162667_1_model_1   \n",
      "5  Grid_GBM_py_50_sid_8c9e_model_python_1510970162667_1_model_0   \n",
      "6  Grid_GBM_py_50_sid_8c9e_model_python_1510970162667_1_model_7   \n",
      "7  Grid_GBM_py_50_sid_8c9e_model_python_1510970162667_1_model_6   \n",
      "8  Grid_GBM_py_50_sid_8c9e_model_python_1510970162667_1_model_3   \n",
      "\n",
      "                  mse  \n",
      "0  23.076232218165025  \n",
      "1   23.09006524334381  \n",
      "2  23.134164079301478  \n",
      "3   23.20950980213775  \n",
      "4  23.244276256307938  \n",
      "5   23.32789260979455  \n",
      "6   23.40115648995256  \n",
      "7   23.53143919648077  \n",
      "8  23.672016380691215  \n",
      "\n"
     ]
    }
   ],
   "source": [
    "grid_sorted = gbm3.get_grid(sort_by='mse',decreasing=False)\n",
    "print(grid_sorted)"
   ]
  },
  {
   "cell_type": "code",
   "execution_count": 167,
   "metadata": {},
   "outputs": [
    {
     "name": "stdout",
     "output_type": "stream",
     "text": [
      "Model Details\n",
      "=============\n",
      "H2OGradientBoostingEstimator :  Gradient Boosting Machine\n",
      "Model Key:  Grid_GBM_py_50_sid_8c9e_model_python_1510970162667_1_model_5\n",
      "\n",
      "\n",
      "ModelMetricsRegression: gbm\n",
      "** Reported on train data. **\n",
      "\n",
      "MSE: 21.5639250793\n",
      "RMSE: 4.64369735009\n",
      "MAE: 2.7345022982\n",
      "RMSLE: 0.227518807972\n",
      "Mean Residual Deviance: 21.5639250793\n",
      "\n",
      "ModelMetricsRegression: gbm\n",
      "** Reported on cross-validation data. **\n",
      "\n",
      "MSE: 23.0762322182\n",
      "RMSE: 4.80377270676\n",
      "MAE: 2.83058653794\n",
      "RMSLE: 0.235739813754\n",
      "Mean Residual Deviance: 23.0762322182\n",
      "Cross-Validation Metrics Summary: \n"
     ]
    },
    {
     "data": {
      "text/html": [
       "<div style=\"overflow:auto\"><table style=\"width:50%\"><tr><td><b></b></td>\n",
       "<td><b>mean</b></td>\n",
       "<td><b>sd</b></td>\n",
       "<td><b>cv_1_valid</b></td>\n",
       "<td><b>cv_2_valid</b></td>\n",
       "<td><b>cv_3_valid</b></td>\n",
       "<td><b>cv_4_valid</b></td>\n",
       "<td><b>cv_5_valid</b></td></tr>\n",
       "<tr><td>mae</td>\n",
       "<td>2.8305779</td>\n",
       "<td>0.0194763</td>\n",
       "<td>2.8078384</td>\n",
       "<td>2.8784323</td>\n",
       "<td>2.8418577</td>\n",
       "<td>2.8024662</td>\n",
       "<td>2.822295</td></tr>\n",
       "<tr><td>mean_residual_deviance</td>\n",
       "<td>23.08123</td>\n",
       "<td>1.3991913</td>\n",
       "<td>23.30821</td>\n",
       "<td>26.668571</td>\n",
       "<td>20.99138</td>\n",
       "<td>21.585567</td>\n",
       "<td>22.852427</td></tr>\n",
       "<tr><td>mse</td>\n",
       "<td>23.08123</td>\n",
       "<td>1.3991913</td>\n",
       "<td>23.30821</td>\n",
       "<td>26.668571</td>\n",
       "<td>20.99138</td>\n",
       "<td>21.585567</td>\n",
       "<td>22.852427</td></tr>\n",
       "<tr><td>r2</td>\n",
       "<td>0.9463232</td>\n",
       "<td>0.0037104</td>\n",
       "<td>0.9443322</td>\n",
       "<td>0.9372091</td>\n",
       "<td>0.9520435</td>\n",
       "<td>0.9503227</td>\n",
       "<td>0.9477085</td></tr>\n",
       "<tr><td>residual_deviance</td>\n",
       "<td>23.08123</td>\n",
       "<td>1.3991913</td>\n",
       "<td>23.30821</td>\n",
       "<td>26.668571</td>\n",
       "<td>20.99138</td>\n",
       "<td>21.585567</td>\n",
       "<td>22.852427</td></tr>\n",
       "<tr><td>rmse</td>\n",
       "<td>4.8000207</td>\n",
       "<td>0.1432356</td>\n",
       "<td>4.8278575</td>\n",
       "<td>5.164162</td>\n",
       "<td>4.581635</td>\n",
       "<td>4.646027</td>\n",
       "<td>4.7804213</td></tr>\n",
       "<tr><td>rmsle</td>\n",
       "<td>0.2357301</td>\n",
       "<td>0.0020395</td>\n",
       "<td>0.2364380</td>\n",
       "<td>0.2381348</td>\n",
       "<td>0.2324560</td>\n",
       "<td>0.2323051</td>\n",
       "<td>0.2393164</td></tr></table></div>"
      ],
      "text/plain": [
       "                        mean      sd          cv_1_valid    cv_2_valid    cv_3_valid    cv_4_valid    cv_5_valid\n",
       "----------------------  --------  ----------  ------------  ------------  ------------  ------------  ------------\n",
       "mae                     2.83058   0.0194763   2.80784       2.87843       2.84186       2.80247       2.82229\n",
       "mean_residual_deviance  23.0812   1.39919     23.3082       26.6686       20.9914       21.5856       22.8524\n",
       "mse                     23.0812   1.39919     23.3082       26.6686       20.9914       21.5856       22.8524\n",
       "r2                      0.946323  0.00371038  0.944332      0.937209      0.952044      0.950323      0.947709\n",
       "residual_deviance       23.0812   1.39919     23.3082       26.6686       20.9914       21.5856       22.8524\n",
       "rmse                    4.80002   0.143236    4.82786       5.16416       4.58164       4.64603       4.78042\n",
       "rmsle                   0.23573   0.00203952  0.236438      0.238135      0.232456      0.232305      0.239316"
      ]
     },
     "metadata": {},
     "output_type": "display_data"
    },
    {
     "name": "stdout",
     "output_type": "stream",
     "text": [
      "Scoring History: \n"
     ]
    },
    {
     "data": {
      "text/html": [
       "<div style=\"overflow:auto\"><table style=\"width:50%\"><tr><td><b></b></td>\n",
       "<td><b>timestamp</b></td>\n",
       "<td><b>duration</b></td>\n",
       "<td><b>number_of_trees</b></td>\n",
       "<td><b>training_rmse</b></td>\n",
       "<td><b>training_mae</b></td>\n",
       "<td><b>training_deviance</b></td></tr>\n",
       "<tr><td></td>\n",
       "<td>2017-11-18 00:01:11</td>\n",
       "<td> 2 min 34.035 sec</td>\n",
       "<td>0.0</td>\n",
       "<td>20.7498469</td>\n",
       "<td>15.3889454</td>\n",
       "<td>430.5561468</td></tr>\n",
       "<tr><td></td>\n",
       "<td>2017-11-18 00:01:11</td>\n",
       "<td> 2 min 34.047 sec</td>\n",
       "<td>1.0</td>\n",
       "<td>18.9104734</td>\n",
       "<td>14.0262473</td>\n",
       "<td>357.6060054</td></tr>\n",
       "<tr><td></td>\n",
       "<td>2017-11-18 00:01:11</td>\n",
       "<td> 2 min 34.058 sec</td>\n",
       "<td>2.0</td>\n",
       "<td>17.2904203</td>\n",
       "<td>12.8189753</td>\n",
       "<td>298.9586352</td></tr>\n",
       "<tr><td></td>\n",
       "<td>2017-11-18 00:01:11</td>\n",
       "<td> 2 min 34.070 sec</td>\n",
       "<td>3.0</td>\n",
       "<td>15.8462111</td>\n",
       "<td>11.7368641</td>\n",
       "<td>251.1024068</td></tr>\n",
       "<tr><td></td>\n",
       "<td>2017-11-18 00:01:11</td>\n",
       "<td> 2 min 34.083 sec</td>\n",
       "<td>4.0</td>\n",
       "<td>14.5661720</td>\n",
       "<td>10.7729176</td>\n",
       "<td>212.1733671</td></tr>\n",
       "<tr><td>---</td>\n",
       "<td>---</td>\n",
       "<td>---</td>\n",
       "<td>---</td>\n",
       "<td>---</td>\n",
       "<td>---</td>\n",
       "<td>---</td></tr>\n",
       "<tr><td></td>\n",
       "<td>2017-11-18 00:01:12</td>\n",
       "<td> 2 min 35.192 sec</td>\n",
       "<td>96.0</td>\n",
       "<td>4.6771586</td>\n",
       "<td>2.7539841</td>\n",
       "<td>21.8758125</td></tr>\n",
       "<tr><td></td>\n",
       "<td>2017-11-18 00:01:12</td>\n",
       "<td> 2 min 35.204 sec</td>\n",
       "<td>97.0</td>\n",
       "<td>4.6734806</td>\n",
       "<td>2.7522946</td>\n",
       "<td>21.8414206</td></tr>\n",
       "<tr><td></td>\n",
       "<td>2017-11-18 00:01:12</td>\n",
       "<td> 2 min 35.216 sec</td>\n",
       "<td>98.0</td>\n",
       "<td>4.6555918</td>\n",
       "<td>2.7424399</td>\n",
       "<td>21.6745354</td></tr>\n",
       "<tr><td></td>\n",
       "<td>2017-11-18 00:01:12</td>\n",
       "<td> 2 min 35.228 sec</td>\n",
       "<td>99.0</td>\n",
       "<td>4.6504542</td>\n",
       "<td>2.7389376</td>\n",
       "<td>21.6267239</td></tr>\n",
       "<tr><td></td>\n",
       "<td>2017-11-18 00:01:12</td>\n",
       "<td> 2 min 35.241 sec</td>\n",
       "<td>100.0</td>\n",
       "<td>4.6436974</td>\n",
       "<td>2.7345023</td>\n",
       "<td>21.5639251</td></tr></table></div>"
      ],
      "text/plain": [
       "     timestamp            duration          number_of_trees    training_rmse    training_mae    training_deviance\n",
       "---  -------------------  ----------------  -----------------  ---------------  --------------  -------------------\n",
       "     2017-11-18 00:01:11  2 min 34.035 sec  0.0                20.7498469114    15.3889454434   430.556146848\n",
       "     2017-11-18 00:01:11  2 min 34.047 sec  1.0                18.9104734302    14.0262473121   357.606005355\n",
       "     2017-11-18 00:01:11  2 min 34.058 sec  2.0                17.29042033      12.8189752675   298.958635188\n",
       "     2017-11-18 00:01:11  2 min 34.070 sec  3.0                15.8462111173    11.736864065    251.102406774\n",
       "     2017-11-18 00:01:11  2 min 34.083 sec  4.0                14.5661720115    10.7729176056   212.173367068\n",
       "---  ---                  ---               ---                ---              ---             ---\n",
       "     2017-11-18 00:01:12  2 min 35.192 sec  96.0               4.67715859153    2.75398405054   21.8758124903\n",
       "     2017-11-18 00:01:12  2 min 35.204 sec  97.0               4.67348056534    2.75229457278   21.8414205946\n",
       "     2017-11-18 00:01:12  2 min 35.216 sec  98.0               4.65559183853    2.74243991057   21.674535367\n",
       "     2017-11-18 00:01:12  2 min 35.228 sec  99.0               4.65045415776    2.73893763114   21.6267238735\n",
       "     2017-11-18 00:01:12  2 min 35.241 sec  100.0              4.64369735009    2.7345022982    21.5639250793"
      ]
     },
     "metadata": {},
     "output_type": "display_data"
    },
    {
     "name": "stdout",
     "output_type": "stream",
     "text": [
      "\n",
      "See the whole table with table.as_data_frame()\n",
      "Variable Importances: \n"
     ]
    },
    {
     "data": {
      "text/html": [
       "<div style=\"overflow:auto\"><table style=\"width:50%\"><tr><td><b>variable</b></td>\n",
       "<td><b>relative_importance</b></td>\n",
       "<td><b>scaled_importance</b></td>\n",
       "<td><b>percentage</b></td></tr>\n",
       "<tr><td>Junction</td>\n",
       "<td>54827112.0000000</td>\n",
       "<td>1.0</td>\n",
       "<td>0.6038350</td></tr>\n",
       "<tr><td>Year</td>\n",
       "<td>13774783.0000000</td>\n",
       "<td>0.2512404</td>\n",
       "<td>0.1517077</td></tr>\n",
       "<tr><td>HourOfDay</td>\n",
       "<td>10738238.0000000</td>\n",
       "<td>0.1958563</td>\n",
       "<td>0.1182649</td></tr>\n",
       "<tr><td>WeekDay</td>\n",
       "<td>3181119.7500000</td>\n",
       "<td>0.0580209</td>\n",
       "<td>0.0350351</td></tr>\n",
       "<tr><td>Month</td>\n",
       "<td>2663746.7500000</td>\n",
       "<td>0.0485845</td>\n",
       "<td>0.0293370</td></tr>\n",
       "<tr><td>Weekend</td>\n",
       "<td>2570627.0</td>\n",
       "<td>0.0468861</td>\n",
       "<td>0.0283114</td></tr>\n",
       "<tr><td>WeekNum</td>\n",
       "<td>1648819.2500000</td>\n",
       "<td>0.0300731</td>\n",
       "<td>0.0181592</td></tr>\n",
       "<tr><td>Season</td>\n",
       "<td>877721.1250000</td>\n",
       "<td>0.0160089</td>\n",
       "<td>0.0096667</td></tr>\n",
       "<tr><td>Day</td>\n",
       "<td>515999.3750000</td>\n",
       "<td>0.0094114</td>\n",
       "<td>0.0056829</td></tr></table></div>"
      ],
      "text/plain": [
       "variable    relative_importance    scaled_importance    percentage\n",
       "----------  ---------------------  -------------------  ------------\n",
       "Junction    5.48271e+07            1                    0.603835\n",
       "Year        1.37748e+07            0.25124              0.151708\n",
       "HourOfDay   1.07382e+07            0.195856             0.118265\n",
       "WeekDay     3.18112e+06            0.0580209            0.0350351\n",
       "Month       2.66375e+06            0.0485845            0.029337\n",
       "Weekend     2.57063e+06            0.0468861            0.0283114\n",
       "WeekNum     1.64882e+06            0.0300731            0.0181592\n",
       "Season      877721                 0.0160089            0.00966673\n",
       "Day         515999                 0.00941139           0.00568293"
      ]
     },
     "metadata": {},
     "output_type": "display_data"
    },
    {
     "data": {
      "text/plain": [
       "<bound method H2OGradientBoostingEstimator.summary of >"
      ]
     },
     "execution_count": 167,
     "metadata": {},
     "output_type": "execute_result"
    }
   ],
   "source": [
    "best = grid_sorted.model_ids[0]\n",
    "best_gbm_full_grid = h2o.get_model(best)\n",
    "best_gbm_full_grid.summary"
   ]
  },
  {
   "cell_type": "code",
   "execution_count": null,
   "metadata": {},
   "outputs": [],
   "source": [
    "best_gbm_full_grid.model_performance(X_test)"
   ]
  },
  {
   "cell_type": "code",
   "execution_count": 168,
   "metadata": {},
   "outputs": [
    {
     "name": "stdout",
     "output_type": "stream",
     "text": [
      "gbm prediction progress: |████████████████████████████████████████████████| 100%\n"
     ]
    }
   ],
   "source": [
    "preds = best_gbm_full_grid.predict(test)"
   ]
  },
  {
   "cell_type": "code",
   "execution_count": 170,
   "metadata": {},
   "outputs": [
    {
     "data": {
      "text/html": [
       "<table>\n",
       "<thead>\n",
       "<tr><th style=\"text-align: right;\">  predict</th></tr>\n",
       "</thead>\n",
       "<tbody>\n",
       "<tr><td style=\"text-align: right;\">  62.2133</td></tr>\n",
       "<tr><td style=\"text-align: right;\">  54.8503</td></tr>\n",
       "<tr><td style=\"text-align: right;\">  44.563 </td></tr>\n",
       "<tr><td style=\"text-align: right;\">  36.8876</td></tr>\n",
       "<tr><td style=\"text-align: right;\">  30.8197</td></tr>\n",
       "<tr><td style=\"text-align: right;\">  29.2962</td></tr>\n",
       "<tr><td style=\"text-align: right;\">  31.3513</td></tr>\n",
       "<tr><td style=\"text-align: right;\">  34.728 </td></tr>\n",
       "<tr><td style=\"text-align: right;\">  37.9277</td></tr>\n",
       "<tr><td style=\"text-align: right;\">  43.1146</td></tr>\n",
       "</tbody>\n",
       "</table>"
      ]
     },
     "metadata": {},
     "output_type": "display_data"
    },
    {
     "data": {
      "text/plain": []
     },
     "execution_count": 170,
     "metadata": {},
     "output_type": "execute_result"
    }
   ],
   "source": [
    "preds"
   ]
  },
  {
   "cell_type": "code",
   "execution_count": null,
   "metadata": {},
   "outputs": [],
   "source": []
  },
  {
   "cell_type": "code",
   "execution_count": 169,
   "metadata": {},
   "outputs": [],
   "source": [
    "submission = pd.concat((h2o.as_list(test['ID']), h2o.as_list(preds)), axis=1, ignore_index=True)\n",
    "submission.columns = ['ID', 'Vehicles']\n",
    "submission = submission.set_index(['ID', 'Vehicles'])\n",
    "submission.to_csv('submission_h2o_gbm+5fold+earlystopping+gridsearch.csv')"
   ]
  },
  {
   "cell_type": "code",
   "execution_count": 3,
   "metadata": {},
   "outputs": [
    {
     "name": "stdout",
     "output_type": "stream",
     "text": [
      "[WARNING] in <ipython-input-3-bd1e984f485f> line 1:\n",
      "    >>> h2o.shutdown()\n",
      "        ^^^^ Deprecated, use ``h2o.cluster().shutdown()``.\n",
      "H2O session _sid_a8ac closed.\n"
     ]
    }
   ],
   "source": [
    "h2o.shutdown()"
   ]
  },
  {
   "cell_type": "code",
   "execution_count": null,
   "metadata": {},
   "outputs": [],
   "source": []
  }
 ],
 "metadata": {
  "kernelspec": {
   "display_name": "Python 2",
   "language": "python",
   "name": "python2"
  },
  "language_info": {
   "codemirror_mode": {
    "name": "ipython",
    "version": 2
   },
   "file_extension": ".py",
   "mimetype": "text/x-python",
   "name": "python",
   "nbconvert_exporter": "python",
   "pygments_lexer": "ipython2",
   "version": "2.7.14"
  }
 },
 "nbformat": 4,
 "nbformat_minor": 2
}
